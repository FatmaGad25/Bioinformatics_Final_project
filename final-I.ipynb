{
 "cells": [
  {
   "cell_type": "code",
   "execution_count": 1,
   "id": "53b1c0f2",
   "metadata": {},
   "outputs": [],
   "source": [
    "import pandas as pd\n",
    "import numpy as np\n",
    "import os \n",
    "import re\n",
    "import matplotlib.pyplot as plt\n",
    "import scipy\n",
    "# from scipy.stats.stats import pearsonr \n",
    "import os\n",
    "from pathlib import Path\n",
    "import math\n",
    "from statsmodels.stats.multitest import multipletests\n",
    "import statsmodels\n",
    "from scipy.stats import ttest_rel, ttest_ind\n",
    "from scipy import stats"
   ]
  },
  {
   "cell_type": "code",
   "execution_count": 2,
   "id": "445967ed",
   "metadata": {},
   "outputs": [
    {
     "name": "stdout",
     "output_type": "stream",
     "text": [
      "19648\n",
      "Index(['Hugo_Symbol', 'Entrez_Gene_Id', 'TCGA-43-7657', 'TCGA-58-8386',\n",
      "       'TCGA-22-5478', 'TCGA-22-5472', 'TCGA-43-5670', 'TCGA-60-2709',\n",
      "       'TCGA-22-5489', 'TCGA-77-8007', 'TCGA-22-5471', 'TCGA-22-4609',\n",
      "       'TCGA-22-5482', 'TCGA-56-8082', 'TCGA-22-5483', 'TCGA-56-8623',\n",
      "       'TCGA-33-4587', 'TCGA-56-7579', 'TCGA-43-3394', 'TCGA-34-8454',\n",
      "       'TCGA-77-7338', 'TCGA-43-6143', 'TCGA-43-6773', 'TCGA-51-4080',\n",
      "       'TCGA-34-7107', 'TCGA-39-5040', 'TCGA-43-6771', 'TCGA-92-7340',\n",
      "       'TCGA-77-7138', 'TCGA-77-7142', 'TCGA-56-7823', 'TCGA-22-5491',\n",
      "       'TCGA-22-5481', 'TCGA-90-7767', 'TCGA-77-8008', 'TCGA-56-7730',\n",
      "       'TCGA-33-6737', 'TCGA-56-7582', 'TCGA-56-7731', 'TCGA-77-7337',\n",
      "       'TCGA-43-7658', 'TCGA-56-8201', 'TCGA-85-7710', 'TCGA-56-7580',\n",
      "       'TCGA-43-6647', 'TCGA-90-6837', 'TCGA-56-8083', 'TCGA-51-4079',\n",
      "       'TCGA-56-7222', 'TCGA-22-4593', 'TCGA-51-4081', 'TCGA-56-8309'],\n",
      "      dtype='object')\n",
      "  Hugo_Symbol  Entrez_Gene_Id  TCGA-43-7657  TCGA-58-8386  TCGA-22-5478  \\\n",
      "0    HIST3H2A           92815         62.12        130.60         33.06   \n",
      "1       LIN7B           64130        185.11        283.05        119.26   \n",
      "2         LXN           56925        909.17        819.30        412.00   \n",
      "\n",
      "   TCGA-22-5472  TCGA-43-5670  TCGA-60-2709  TCGA-22-5489  TCGA-77-8007  ...  \\\n",
      "0         35.50         73.03         60.39         92.05         66.65  ...   \n",
      "1        169.07        165.57        161.02        131.51        198.47  ...   \n",
      "2        743.43       1340.84        607.87       1709.26       1709.26  ...   \n",
      "\n",
      "   TCGA-85-7710  TCGA-56-7580  TCGA-43-6647  TCGA-90-6837  TCGA-56-8083  \\\n",
      "0         90.77         59.55         40.07         22.92         29.91   \n",
      "1        185.11        119.26        102.97        123.50        264.03   \n",
      "2        813.63       2400.97        543.96       2193.99        540.19   \n",
      "\n",
      "   TCGA-51-4079  TCGA-56-7222  TCGA-22-4593  TCGA-51-4081  TCGA-56-8309  \n",
      "0         82.29          4.70         37.32         43.63         77.25  \n",
      "1        194.36        166.73        105.15        185.11        356.05  \n",
      "2        521.76        253.23        764.36        518.15        878.17  \n",
      "\n",
      "[3 rows x 52 columns]\n"
     ]
    }
   ],
   "source": [
    "normal =pd.read_csv('data/lusc-rsem-fpkm-tcga_paired.txt', sep=\"\\t\", header=0)\n",
    "print(len(normal))\n",
    "print(normal.columns)\n",
    "print(normal.head(3))"
   ]
  },
  {
   "cell_type": "code",
   "execution_count": 3,
   "id": "44bad6b2",
   "metadata": {
    "scrolled": false
   },
   "outputs": [
    {
     "name": "stdout",
     "output_type": "stream",
     "text": [
      "19648\n",
      "Index(['Hugo_Symbol', 'Entrez_Gene_Id', 'TCGA-43-7657', 'TCGA-58-8386',\n",
      "       'TCGA-22-5478', 'TCGA-22-5472', 'TCGA-43-5670', 'TCGA-60-2709',\n",
      "       'TCGA-22-5489', 'TCGA-77-8007', 'TCGA-22-5471', 'TCGA-22-4609',\n",
      "       'TCGA-22-5482', 'TCGA-56-8082', 'TCGA-22-5483', 'TCGA-56-8623',\n",
      "       'TCGA-33-4587', 'TCGA-56-7579', 'TCGA-43-3394', 'TCGA-34-8454',\n",
      "       'TCGA-77-7338', 'TCGA-43-6143', 'TCGA-43-6773', 'TCGA-51-4080',\n",
      "       'TCGA-34-7107', 'TCGA-39-5040', 'TCGA-43-6771', 'TCGA-92-7340',\n",
      "       'TCGA-77-7138', 'TCGA-77-7142', 'TCGA-56-7823', 'TCGA-22-5491',\n",
      "       'TCGA-22-5481', 'TCGA-90-7767', 'TCGA-77-8008', 'TCGA-56-7730',\n",
      "       'TCGA-33-6737', 'TCGA-56-7582', 'TCGA-56-7731', 'TCGA-77-7337',\n",
      "       'TCGA-43-7658', 'TCGA-56-8201', 'TCGA-85-7710', 'TCGA-56-7580',\n",
      "       'TCGA-43-6647', 'TCGA-90-6837', 'TCGA-56-8083', 'TCGA-51-4079',\n",
      "       'TCGA-56-7222', 'TCGA-22-4593', 'TCGA-51-4081', 'TCGA-56-8309'],\n",
      "      dtype='object')\n",
      "  Hugo_Symbol  Entrez_Gene_Id  TCGA-43-7657  TCGA-58-8386  TCGA-22-5478  \\\n",
      "0    HIST3H2A           92815        336.79        500.46        703.28   \n",
      "1       LIN7B           64130        105.15        212.78        102.25   \n",
      "2         LXN           56925        848.22        236.21        271.48   \n",
      "\n",
      "   TCGA-22-5472  TCGA-43-5670  TCGA-60-2709  TCGA-22-5489  TCGA-77-8007  ...  \\\n",
      "0        287.01        486.75         70.51        145.02         14.03  ...   \n",
      "1        212.78        172.65        244.57        105.89        152.28  ...   \n",
      "2        759.08         61.25        620.67        329.84        599.49  ...   \n",
      "\n",
      "   TCGA-85-7710  TCGA-56-7580  TCGA-43-6647  TCGA-90-6837  TCGA-56-8083  \\\n",
      "0          3.06        420.68        109.66        106.63       1233.75   \n",
      "1        135.24        135.24        151.22        395.18        295.11   \n",
      "2        688.78        204.07        438.59        503.95       3039.30   \n",
      "\n",
      "   TCGA-51-4079  TCGA-56-7222  TCGA-22-4593  TCGA-51-4081  TCGA-56-8309  \n",
      "0        172.65        303.44        228.13        251.48         23.59  \n",
      "1        120.94        114.36         96.68        277.20        153.34  \n",
      "2        607.87        106.63        507.46        255.00        346.29  \n",
      "\n",
      "[3 rows x 52 columns]\n"
     ]
    }
   ],
   "source": [
    "cancer = pd.read_csv('data/lusc-rsem-fpkm-tcga-t_paired.txt', sep=\"\\t\", header=0)\n",
    "print(len(cancer))\n",
    "print(cancer.columns)\n",
    "print(cancer.head(3))"
   ]
  },
  {
   "cell_type": "code",
   "execution_count": 4,
   "id": "a8945e96",
   "metadata": {
    "scrolled": true
   },
   "outputs": [
    {
     "name": "stdout",
     "output_type": "stream",
     "text": [
      "checked\n"
     ]
    }
   ],
   "source": [
    "def check(normal, cancer):\n",
    "    if not (normal.columns == cancer.columns).all():\n",
    "        print('Different Columns')\n",
    "    if not (len(normal) == len(cancer)):\n",
    "        print('Different length')\n",
    "    else: \n",
    "        print('checked')\n",
    "# print(normal.columns == cancer.columns)\n",
    "# print(len(normal) == len(cancer))\n",
    "check(normal, cancer)"
   ]
  },
  {
   "cell_type": "code",
   "execution_count": 5,
   "id": "da14f36a",
   "metadata": {},
   "outputs": [
    {
     "name": "stdout",
     "output_type": "stream",
     "text": [
      "True\n"
     ]
    }
   ],
   "source": [
    "print((normal.columns == cancer.columns).all())"
   ]
  },
  {
   "cell_type": "code",
   "execution_count": 6,
   "id": "4dea0643",
   "metadata": {
    "scrolled": true
   },
   "outputs": [
    {
     "name": "stdout",
     "output_type": "stream",
     "text": [
      "52\n"
     ]
    }
   ],
   "source": [
    "print(len(normal.columns))"
   ]
  },
  {
   "cell_type": "code",
   "execution_count": 7,
   "id": "e876b3de",
   "metadata": {},
   "outputs": [
    {
     "name": "stdout",
     "output_type": "stream",
     "text": [
      "17626 17717\n"
     ]
    }
   ],
   "source": [
    "normal_x = normal[((normal == 0).astype(int).sum(axis=1))<25]\n",
    "cancer_x = cancer[((cancer == 0).astype(int).sum(axis=1))<25]\n",
    "print(len(normal_x), len(cancer_x))"
   ]
  },
  {
   "cell_type": "code",
   "execution_count": 8,
   "id": "76f2ee61",
   "metadata": {
    "scrolled": true
   },
   "outputs": [
    {
     "name": "stdout",
     "output_type": "stream",
     "text": [
      "17275 17275\n"
     ]
    }
   ],
   "source": [
    "names = np.intersect1d(normal_x.Hugo_Symbol, cancer_x.Hugo_Symbol)\n",
    "\n",
    "normal_x = normal_x[normal_x['Hugo_Symbol'].isin(names)]\n",
    "cancer_x = cancer_x[cancer_x['Hugo_Symbol'].isin(names)]\n",
    "normal_x.dropna()\n",
    "cancer_x.dropna()\n",
    "print(len(normal_x), len(cancer_x))"
   ]
  },
  {
   "cell_type": "code",
   "execution_count": 9,
   "id": "5a7bb3dc",
   "metadata": {},
   "outputs": [
    {
     "name": "stdout",
     "output_type": "stream",
     "text": [
      "checked\n"
     ]
    }
   ],
   "source": [
    "check(normal_x, cancer_x)"
   ]
  },
  {
   "cell_type": "code",
   "execution_count": 10,
   "id": "3bcf6d08",
   "metadata": {
    "scrolled": true
   },
   "outputs": [
    {
     "data": {
      "text/plain": [
       "array([62.12, 130.6, 33.06, 35.5, 73.03, 60.39, 92.05, 66.65, 54.33,\n",
       "       15.56, 55.49, 30.34, 14.45, 100.83, 131.51, 59.55, 87.03, 71.5,\n",
       "       23.08, 48.87, 72.52, 115.97, 45.21, 74.58, 8.92, 27.44, 40.64,\n",
       "       35.76, 59.13, 20.86, 37.05, 48.18, 51.71, 49.56, 72.01, 21.94,\n",
       "       27.44, 35.0, 76.17, 28.86, 90.77, 59.55, 40.07, 22.92, 29.91,\n",
       "       82.29, 4.7, 37.32, 43.63, 77.25], dtype=object)"
      ]
     },
     "execution_count": 10,
     "metadata": {},
     "output_type": "execute_result"
    }
   ],
   "source": [
    "np.array(normal_x.iloc[0][2:])"
   ]
  },
  {
   "cell_type": "markdown",
   "id": "326e8c91",
   "metadata": {},
   "source": [
    "# Normality test "
   ]
  },
  {
   "cell_type": "markdown",
   "id": "7570f2a7",
   "metadata": {},
   "source": [
    "## paired "
   ]
  },
  {
   "cell_type": "code",
   "execution_count": 25,
   "id": "ffa7a533",
   "metadata": {
    "scrolled": true
   },
   "outputs": [
    {
     "ename": "TypeError",
     "evalue": "unsupported operand type(s) for -: 'str' and 'str'",
     "output_type": "error",
     "traceback": [
      "\u001b[1;31m---------------------------------------------------------------------------\u001b[0m",
      "\u001b[1;31mTypeError\u001b[0m                                 Traceback (most recent call last)",
      "File \u001b[1;32mG:\\anaconda\\lib\\site-packages\\pandas\\core\\ops\\array_ops.py:142\u001b[0m, in \u001b[0;36m_na_arithmetic_op\u001b[1;34m(left, right, op, is_cmp)\u001b[0m\n\u001b[0;32m    141\u001b[0m \u001b[38;5;28;01mtry\u001b[39;00m:\n\u001b[1;32m--> 142\u001b[0m     result \u001b[38;5;241m=\u001b[39m \u001b[43mexpressions\u001b[49m\u001b[38;5;241;43m.\u001b[39;49m\u001b[43mevaluate\u001b[49m\u001b[43m(\u001b[49m\u001b[43mop\u001b[49m\u001b[43m,\u001b[49m\u001b[43m \u001b[49m\u001b[43mleft\u001b[49m\u001b[43m,\u001b[49m\u001b[43m \u001b[49m\u001b[43mright\u001b[49m\u001b[43m)\u001b[49m\n\u001b[0;32m    143\u001b[0m \u001b[38;5;28;01mexcept\u001b[39;00m \u001b[38;5;167;01mTypeError\u001b[39;00m:\n",
      "File \u001b[1;32mG:\\anaconda\\lib\\site-packages\\pandas\\core\\computation\\expressions.py:235\u001b[0m, in \u001b[0;36mevaluate\u001b[1;34m(op, a, b, use_numexpr)\u001b[0m\n\u001b[0;32m    233\u001b[0m     \u001b[38;5;28;01mif\u001b[39;00m use_numexpr:\n\u001b[0;32m    234\u001b[0m         \u001b[38;5;66;03m# error: \"None\" not callable\u001b[39;00m\n\u001b[1;32m--> 235\u001b[0m         \u001b[38;5;28;01mreturn\u001b[39;00m \u001b[43m_evaluate\u001b[49m\u001b[43m(\u001b[49m\u001b[43mop\u001b[49m\u001b[43m,\u001b[49m\u001b[43m \u001b[49m\u001b[43mop_str\u001b[49m\u001b[43m,\u001b[49m\u001b[43m \u001b[49m\u001b[43ma\u001b[49m\u001b[43m,\u001b[49m\u001b[43m \u001b[49m\u001b[43mb\u001b[49m\u001b[43m)\u001b[49m  \u001b[38;5;66;03m# type: ignore[misc]\u001b[39;00m\n\u001b[0;32m    236\u001b[0m \u001b[38;5;28;01mreturn\u001b[39;00m _evaluate_standard(op, op_str, a, b)\n",
      "File \u001b[1;32mG:\\anaconda\\lib\\site-packages\\pandas\\core\\computation\\expressions.py:120\u001b[0m, in \u001b[0;36m_evaluate_numexpr\u001b[1;34m(op, op_str, a, b)\u001b[0m\n\u001b[0;32m    119\u001b[0m \u001b[38;5;28;01mif\u001b[39;00m result \u001b[38;5;129;01mis\u001b[39;00m \u001b[38;5;28;01mNone\u001b[39;00m:\n\u001b[1;32m--> 120\u001b[0m     result \u001b[38;5;241m=\u001b[39m \u001b[43m_evaluate_standard\u001b[49m\u001b[43m(\u001b[49m\u001b[43mop\u001b[49m\u001b[43m,\u001b[49m\u001b[43m \u001b[49m\u001b[43mop_str\u001b[49m\u001b[43m,\u001b[49m\u001b[43m \u001b[49m\u001b[43ma\u001b[49m\u001b[43m,\u001b[49m\u001b[43m \u001b[49m\u001b[43mb\u001b[49m\u001b[43m)\u001b[49m\n\u001b[0;32m    122\u001b[0m \u001b[38;5;28;01mreturn\u001b[39;00m result\n",
      "File \u001b[1;32mG:\\anaconda\\lib\\site-packages\\pandas\\core\\computation\\expressions.py:69\u001b[0m, in \u001b[0;36m_evaluate_standard\u001b[1;34m(op, op_str, a, b)\u001b[0m\n\u001b[0;32m     68\u001b[0m \u001b[38;5;28;01mwith\u001b[39;00m np\u001b[38;5;241m.\u001b[39merrstate(\u001b[38;5;28mall\u001b[39m\u001b[38;5;241m=\u001b[39m\u001b[38;5;124m\"\u001b[39m\u001b[38;5;124mignore\u001b[39m\u001b[38;5;124m\"\u001b[39m):\n\u001b[1;32m---> 69\u001b[0m     \u001b[38;5;28;01mreturn\u001b[39;00m \u001b[43mop\u001b[49m\u001b[43m(\u001b[49m\u001b[43ma\u001b[49m\u001b[43m,\u001b[49m\u001b[43m \u001b[49m\u001b[43mb\u001b[49m\u001b[43m)\u001b[49m\n",
      "\u001b[1;31mTypeError\u001b[0m: unsupported operand type(s) for -: 'str' and 'str'",
      "\nDuring handling of the above exception, another exception occurred:\n",
      "\u001b[1;31mTypeError\u001b[0m                                 Traceback (most recent call last)",
      "Input \u001b[1;32mIn [25]\u001b[0m, in \u001b[0;36m<cell line: 1>\u001b[1;34m()\u001b[0m\n\u001b[1;32m----> 1\u001b[0m df\u001b[38;5;241m=\u001b[39m\u001b[43mnormal_x\u001b[49m\u001b[38;5;241;43m.\u001b[39;49m\u001b[43mdrop\u001b[49m\u001b[43m(\u001b[49m\u001b[38;5;124;43m\"\u001b[39;49m\u001b[38;5;124;43mHugo_Symbol\u001b[39;49m\u001b[38;5;124;43m\"\u001b[39;49m\u001b[43m,\u001b[49m\u001b[43maxis\u001b[49m\u001b[38;5;241;43m=\u001b[39;49m\u001b[38;5;241;43m1\u001b[39;49m\u001b[43m)\u001b[49m\u001b[38;5;241;43m.\u001b[39;49m\u001b[43mdrop\u001b[49m\u001b[43m(\u001b[49m\u001b[38;5;124;43m\"\u001b[39;49m\u001b[38;5;124;43mEntrez_Gene_Id\u001b[39;49m\u001b[38;5;124;43m\"\u001b[39;49m\u001b[43m,\u001b[49m\u001b[43maxis\u001b[49m\u001b[38;5;241;43m=\u001b[39;49m\u001b[38;5;241;43m1\u001b[39;49m\u001b[43m)\u001b[49m\u001b[38;5;241;43m-\u001b[39;49m\u001b[43mcancer_x\u001b[49m\u001b[38;5;241;43m.\u001b[39;49m\u001b[43mdrop\u001b[49m\u001b[43m(\u001b[49m\u001b[38;5;124;43m\"\u001b[39;49m\u001b[38;5;124;43mHugo_Symbol\u001b[39;49m\u001b[38;5;124;43m\"\u001b[39;49m\u001b[43m,\u001b[49m\u001b[43maxis\u001b[49m\u001b[38;5;241;43m=\u001b[39;49m\u001b[38;5;241;43m1\u001b[39;49m\u001b[43m)\u001b[49m\u001b[38;5;241;43m.\u001b[39;49m\u001b[43mdrop\u001b[49m\u001b[43m(\u001b[49m\u001b[38;5;124;43m\"\u001b[39;49m\u001b[38;5;124;43mEntrez_Gene_Id\u001b[39;49m\u001b[38;5;124;43m\"\u001b[39;49m\u001b[43m,\u001b[49m\u001b[43maxis\u001b[49m\u001b[38;5;241;43m=\u001b[39;49m\u001b[38;5;241;43m1\u001b[39;49m\u001b[43m)\u001b[49m\n\u001b[0;32m      2\u001b[0m \u001b[38;5;28;01mfor\u001b[39;00m i \u001b[38;5;129;01min\u001b[39;00m \u001b[38;5;28mrange\u001b[39m (\u001b[38;5;28mlen\u001b[39m(df)):\n\u001b[0;32m      3\u001b[0m         sample \u001b[38;5;241m=\u001b[39m np\u001b[38;5;241m.\u001b[39marray(df\u001b[38;5;241m.\u001b[39miloc[i][\u001b[38;5;241m2\u001b[39m:\u001b[38;5;241m-\u001b[39m\u001b[38;5;241m1\u001b[39m])\n",
      "File \u001b[1;32mG:\\anaconda\\lib\\site-packages\\pandas\\core\\ops\\common.py:65\u001b[0m, in \u001b[0;36m_unpack_zerodim_and_defer.<locals>.new_method\u001b[1;34m(self, other)\u001b[0m\n\u001b[0;32m     61\u001b[0m             \u001b[38;5;28;01mreturn\u001b[39;00m \u001b[38;5;28mNotImplemented\u001b[39m\n\u001b[0;32m     63\u001b[0m other \u001b[38;5;241m=\u001b[39m item_from_zerodim(other)\n\u001b[1;32m---> 65\u001b[0m \u001b[38;5;28;01mreturn\u001b[39;00m \u001b[43mmethod\u001b[49m\u001b[43m(\u001b[49m\u001b[38;5;28;43mself\u001b[39;49m\u001b[43m,\u001b[49m\u001b[43m \u001b[49m\u001b[43mother\u001b[49m\u001b[43m)\u001b[49m\n",
      "File \u001b[1;32mG:\\anaconda\\lib\\site-packages\\pandas\\core\\arraylike.py:97\u001b[0m, in \u001b[0;36mOpsMixin.__sub__\u001b[1;34m(self, other)\u001b[0m\n\u001b[0;32m     95\u001b[0m \u001b[38;5;129m@unpack_zerodim_and_defer\u001b[39m(\u001b[38;5;124m\"\u001b[39m\u001b[38;5;124m__sub__\u001b[39m\u001b[38;5;124m\"\u001b[39m)\n\u001b[0;32m     96\u001b[0m \u001b[38;5;28;01mdef\u001b[39;00m \u001b[38;5;21m__sub__\u001b[39m(\u001b[38;5;28mself\u001b[39m, other):\n\u001b[1;32m---> 97\u001b[0m     \u001b[38;5;28;01mreturn\u001b[39;00m \u001b[38;5;28;43mself\u001b[39;49m\u001b[38;5;241;43m.\u001b[39;49m\u001b[43m_arith_method\u001b[49m\u001b[43m(\u001b[49m\u001b[43mother\u001b[49m\u001b[43m,\u001b[49m\u001b[43m \u001b[49m\u001b[43moperator\u001b[49m\u001b[38;5;241;43m.\u001b[39;49m\u001b[43msub\u001b[49m\u001b[43m)\u001b[49m\n",
      "File \u001b[1;32mG:\\anaconda\\lib\\site-packages\\pandas\\core\\frame.py:5982\u001b[0m, in \u001b[0;36mDataFrame._arith_method\u001b[1;34m(self, other, op)\u001b[0m\n\u001b[0;32m   5978\u001b[0m axis \u001b[38;5;241m=\u001b[39m \u001b[38;5;241m1\u001b[39m  \u001b[38;5;66;03m# only relevant for Series other case\u001b[39;00m\n\u001b[0;32m   5980\u001b[0m \u001b[38;5;28mself\u001b[39m, other \u001b[38;5;241m=\u001b[39m ops\u001b[38;5;241m.\u001b[39malign_method_FRAME(\u001b[38;5;28mself\u001b[39m, other, axis, flex\u001b[38;5;241m=\u001b[39m\u001b[38;5;28;01mTrue\u001b[39;00m, level\u001b[38;5;241m=\u001b[39m\u001b[38;5;28;01mNone\u001b[39;00m)\n\u001b[1;32m-> 5982\u001b[0m new_data \u001b[38;5;241m=\u001b[39m \u001b[38;5;28;43mself\u001b[39;49m\u001b[38;5;241;43m.\u001b[39;49m\u001b[43m_dispatch_frame_op\u001b[49m\u001b[43m(\u001b[49m\u001b[43mother\u001b[49m\u001b[43m,\u001b[49m\u001b[43m \u001b[49m\u001b[43mop\u001b[49m\u001b[43m,\u001b[49m\u001b[43m \u001b[49m\u001b[43maxis\u001b[49m\u001b[38;5;241;43m=\u001b[39;49m\u001b[43maxis\u001b[49m\u001b[43m)\u001b[49m\n\u001b[0;32m   5983\u001b[0m \u001b[38;5;28;01mreturn\u001b[39;00m \u001b[38;5;28mself\u001b[39m\u001b[38;5;241m.\u001b[39m_construct_result(new_data)\n",
      "File \u001b[1;32mG:\\anaconda\\lib\\site-packages\\pandas\\core\\frame.py:6018\u001b[0m, in \u001b[0;36mDataFrame._dispatch_frame_op\u001b[1;34m(self, right, func, axis)\u001b[0m\n\u001b[0;32m   6013\u001b[0m     \u001b[38;5;28;01massert\u001b[39;00m \u001b[38;5;28mself\u001b[39m\u001b[38;5;241m.\u001b[39mcolumns\u001b[38;5;241m.\u001b[39mequals(right\u001b[38;5;241m.\u001b[39mcolumns)\n\u001b[0;32m   6014\u001b[0m     \u001b[38;5;66;03m# TODO: The previous assertion `assert right._indexed_same(self)`\u001b[39;00m\n\u001b[0;32m   6015\u001b[0m     \u001b[38;5;66;03m#  fails in cases with empty columns reached via\u001b[39;00m\n\u001b[0;32m   6016\u001b[0m     \u001b[38;5;66;03m#  _frame_arith_method_with_reindex\u001b[39;00m\n\u001b[1;32m-> 6018\u001b[0m     bm \u001b[38;5;241m=\u001b[39m \u001b[38;5;28;43mself\u001b[39;49m\u001b[38;5;241;43m.\u001b[39;49m\u001b[43m_mgr\u001b[49m\u001b[38;5;241;43m.\u001b[39;49m\u001b[43moperate_blockwise\u001b[49m\u001b[43m(\u001b[49m\u001b[43mright\u001b[49m\u001b[38;5;241;43m.\u001b[39;49m\u001b[43m_mgr\u001b[49m\u001b[43m,\u001b[49m\u001b[43m \u001b[49m\u001b[43marray_op\u001b[49m\u001b[43m)\u001b[49m\n\u001b[0;32m   6019\u001b[0m     \u001b[38;5;28;01mreturn\u001b[39;00m \u001b[38;5;28mtype\u001b[39m(\u001b[38;5;28mself\u001b[39m)(bm)\n\u001b[0;32m   6021\u001b[0m \u001b[38;5;28;01melif\u001b[39;00m \u001b[38;5;28misinstance\u001b[39m(right, Series) \u001b[38;5;129;01mand\u001b[39;00m axis \u001b[38;5;241m==\u001b[39m \u001b[38;5;241m1\u001b[39m:\n\u001b[0;32m   6022\u001b[0m     \u001b[38;5;66;03m# axis=1 means we want to operate row-by-row\u001b[39;00m\n",
      "File \u001b[1;32mG:\\anaconda\\lib\\site-packages\\pandas\\core\\internals\\managers.py:374\u001b[0m, in \u001b[0;36mBlockManager.operate_blockwise\u001b[1;34m(self, other, array_op)\u001b[0m\n\u001b[0;32m    370\u001b[0m \u001b[38;5;28;01mdef\u001b[39;00m \u001b[38;5;21moperate_blockwise\u001b[39m(\u001b[38;5;28mself\u001b[39m, other: \u001b[38;5;124m\"\u001b[39m\u001b[38;5;124mBlockManager\u001b[39m\u001b[38;5;124m\"\u001b[39m, array_op) \u001b[38;5;241m-\u001b[39m\u001b[38;5;241m>\u001b[39m \u001b[38;5;124m\"\u001b[39m\u001b[38;5;124mBlockManager\u001b[39m\u001b[38;5;124m\"\u001b[39m:\n\u001b[0;32m    371\u001b[0m     \u001b[38;5;124;03m\"\"\"\u001b[39;00m\n\u001b[0;32m    372\u001b[0m \u001b[38;5;124;03m    Apply array_op blockwise with another (aligned) BlockManager.\u001b[39;00m\n\u001b[0;32m    373\u001b[0m \u001b[38;5;124;03m    \"\"\"\u001b[39;00m\n\u001b[1;32m--> 374\u001b[0m     \u001b[38;5;28;01mreturn\u001b[39;00m \u001b[43moperate_blockwise\u001b[49m\u001b[43m(\u001b[49m\u001b[38;5;28;43mself\u001b[39;49m\u001b[43m,\u001b[49m\u001b[43m \u001b[49m\u001b[43mother\u001b[49m\u001b[43m,\u001b[49m\u001b[43m \u001b[49m\u001b[43marray_op\u001b[49m\u001b[43m)\u001b[49m\n",
      "File \u001b[1;32mG:\\anaconda\\lib\\site-packages\\pandas\\core\\internals\\ops.py:54\u001b[0m, in \u001b[0;36moperate_blockwise\u001b[1;34m(left, right, array_op)\u001b[0m\n\u001b[0;32m     52\u001b[0m res_blks: List[\u001b[38;5;124m\"\u001b[39m\u001b[38;5;124mBlock\u001b[39m\u001b[38;5;124m\"\u001b[39m] \u001b[38;5;241m=\u001b[39m []\n\u001b[0;32m     53\u001b[0m \u001b[38;5;28;01mfor\u001b[39;00m lvals, rvals, locs, left_ea, right_ea, rblk \u001b[38;5;129;01min\u001b[39;00m _iter_block_pairs(left, right):\n\u001b[1;32m---> 54\u001b[0m     res_values \u001b[38;5;241m=\u001b[39m \u001b[43marray_op\u001b[49m\u001b[43m(\u001b[49m\u001b[43mlvals\u001b[49m\u001b[43m,\u001b[49m\u001b[43m \u001b[49m\u001b[43mrvals\u001b[49m\u001b[43m)\u001b[49m\n\u001b[0;32m     55\u001b[0m     \u001b[38;5;28;01mif\u001b[39;00m left_ea \u001b[38;5;129;01mand\u001b[39;00m \u001b[38;5;129;01mnot\u001b[39;00m right_ea \u001b[38;5;129;01mand\u001b[39;00m \u001b[38;5;28mhasattr\u001b[39m(res_values, \u001b[38;5;124m\"\u001b[39m\u001b[38;5;124mreshape\u001b[39m\u001b[38;5;124m\"\u001b[39m):\n\u001b[0;32m     56\u001b[0m         res_values \u001b[38;5;241m=\u001b[39m res_values\u001b[38;5;241m.\u001b[39mreshape(\u001b[38;5;241m1\u001b[39m, \u001b[38;5;241m-\u001b[39m\u001b[38;5;241m1\u001b[39m)\n",
      "File \u001b[1;32mG:\\anaconda\\lib\\site-packages\\pandas\\core\\ops\\array_ops.py:189\u001b[0m, in \u001b[0;36marithmetic_op\u001b[1;34m(left, right, op)\u001b[0m\n\u001b[0;32m    187\u001b[0m \u001b[38;5;28;01melse\u001b[39;00m:\n\u001b[0;32m    188\u001b[0m     \u001b[38;5;28;01mwith\u001b[39;00m np\u001b[38;5;241m.\u001b[39merrstate(\u001b[38;5;28mall\u001b[39m\u001b[38;5;241m=\u001b[39m\u001b[38;5;124m\"\u001b[39m\u001b[38;5;124mignore\u001b[39m\u001b[38;5;124m\"\u001b[39m):\n\u001b[1;32m--> 189\u001b[0m         res_values \u001b[38;5;241m=\u001b[39m \u001b[43m_na_arithmetic_op\u001b[49m\u001b[43m(\u001b[49m\u001b[43mlvalues\u001b[49m\u001b[43m,\u001b[49m\u001b[43m \u001b[49m\u001b[43mrvalues\u001b[49m\u001b[43m,\u001b[49m\u001b[43m \u001b[49m\u001b[43mop\u001b[49m\u001b[43m)\u001b[49m\n\u001b[0;32m    191\u001b[0m \u001b[38;5;28;01mreturn\u001b[39;00m res_values\n",
      "File \u001b[1;32mG:\\anaconda\\lib\\site-packages\\pandas\\core\\ops\\array_ops.py:149\u001b[0m, in \u001b[0;36m_na_arithmetic_op\u001b[1;34m(left, right, op, is_cmp)\u001b[0m\n\u001b[0;32m    144\u001b[0m     \u001b[38;5;28;01mif\u001b[39;00m is_cmp:\n\u001b[0;32m    145\u001b[0m         \u001b[38;5;66;03m# numexpr failed on comparison op, e.g. ndarray[float] > datetime\u001b[39;00m\n\u001b[0;32m    146\u001b[0m         \u001b[38;5;66;03m#  In this case we do not fall back to the masked op, as that\u001b[39;00m\n\u001b[0;32m    147\u001b[0m         \u001b[38;5;66;03m#  will handle complex numbers incorrectly, see GH#32047\u001b[39;00m\n\u001b[0;32m    148\u001b[0m         \u001b[38;5;28;01mraise\u001b[39;00m\n\u001b[1;32m--> 149\u001b[0m     result \u001b[38;5;241m=\u001b[39m \u001b[43m_masked_arith_op\u001b[49m\u001b[43m(\u001b[49m\u001b[43mleft\u001b[49m\u001b[43m,\u001b[49m\u001b[43m \u001b[49m\u001b[43mright\u001b[49m\u001b[43m,\u001b[49m\u001b[43m \u001b[49m\u001b[43mop\u001b[49m\u001b[43m)\u001b[49m\n\u001b[0;32m    151\u001b[0m \u001b[38;5;28;01mif\u001b[39;00m is_cmp \u001b[38;5;129;01mand\u001b[39;00m (is_scalar(result) \u001b[38;5;129;01mor\u001b[39;00m result \u001b[38;5;129;01mis\u001b[39;00m \u001b[38;5;28mNotImplemented\u001b[39m):\n\u001b[0;32m    152\u001b[0m     \u001b[38;5;66;03m# numpy returned a scalar instead of operating element-wise\u001b[39;00m\n\u001b[0;32m    153\u001b[0m     \u001b[38;5;66;03m# e.g. numeric array vs str\u001b[39;00m\n\u001b[0;32m    154\u001b[0m     \u001b[38;5;28;01mreturn\u001b[39;00m invalid_comparison(left, right, op)\n",
      "File \u001b[1;32mG:\\anaconda\\lib\\site-packages\\pandas\\core\\ops\\array_ops.py:91\u001b[0m, in \u001b[0;36m_masked_arith_op\u001b[1;34m(x, y, op)\u001b[0m\n\u001b[0;32m     89\u001b[0m     \u001b[38;5;28;01mif\u001b[39;00m mask\u001b[38;5;241m.\u001b[39many():\n\u001b[0;32m     90\u001b[0m         \u001b[38;5;28;01mwith\u001b[39;00m np\u001b[38;5;241m.\u001b[39merrstate(\u001b[38;5;28mall\u001b[39m\u001b[38;5;241m=\u001b[39m\u001b[38;5;124m\"\u001b[39m\u001b[38;5;124mignore\u001b[39m\u001b[38;5;124m\"\u001b[39m):\n\u001b[1;32m---> 91\u001b[0m             result[mask] \u001b[38;5;241m=\u001b[39m \u001b[43mop\u001b[49m\u001b[43m(\u001b[49m\u001b[43mxrav\u001b[49m\u001b[43m[\u001b[49m\u001b[43mmask\u001b[49m\u001b[43m]\u001b[49m\u001b[43m,\u001b[49m\u001b[43m \u001b[49m\u001b[43myrav\u001b[49m\u001b[43m[\u001b[49m\u001b[43mmask\u001b[49m\u001b[43m]\u001b[49m\u001b[43m)\u001b[49m\n\u001b[0;32m     93\u001b[0m \u001b[38;5;28;01melse\u001b[39;00m:\n\u001b[0;32m     94\u001b[0m     \u001b[38;5;28;01mif\u001b[39;00m \u001b[38;5;129;01mnot\u001b[39;00m is_scalar(y):\n",
      "\u001b[1;31mTypeError\u001b[0m: unsupported operand type(s) for -: 'str' and 'str'"
     ]
    }
   ],
   "source": [
    "df=normal_x.drop(\"Hugo_Symbol\",axis=1).drop(\"Entrez_Gene_Id\",axis=1)-cancer_x.drop(\"Hugo_Symbol\",axis=1).drop(\"Entrez_Gene_Id\",axis=1)\n",
    "for i in range (len(df)):\n",
    "        sample = np.array(df.iloc[i][2:-1])\n",
    "        stat,pval = stats.shapiro(sample)\n",
    "        if pval > 0.05 :\n",
    "            df.at[i,'paired'] = 'ND'\n",
    "        else: \n",
    "            df.at[i,'paired'] = 'NOT'\n",
    "norm = len(df[df['paired'] == 'ND'])\n",
    "Not = len(df[df['paired'] == 'NOT'])\n",
    "print(f\"no of normally distributed {norm} and no of not normally distributed {Not}\")"
   ]
  },
  {
   "cell_type": "markdown",
   "id": "5c639d26",
   "metadata": {},
   "source": [
    "### Independent "
   ]
  },
  {
   "cell_type": "code",
   "execution_count": 11,
   "id": "a8707319",
   "metadata": {
    "scrolled": false
   },
   "outputs": [],
   "source": [
    "dfs = [normal_x, cancer_x]\n",
    "for df in dfs:\n",
    "    df['normality'] = ''\n",
    "    for i in range (len(df)):\n",
    "        sample = np.array(df.iloc[i][2:-1])\n",
    "        stat,pval = stats.shapiro(sample)\n",
    "        if pval > 0.05 :\n",
    "            df.at[i,'normality'] = 'ND'\n",
    "        else: \n",
    "            df.at[i,'normality'] = 'NOT'\n",
    "    df.head(3)\n"
   ]
  },
  {
   "cell_type": "code",
   "execution_count": 12,
   "id": "099ebd27",
   "metadata": {},
   "outputs": [
    {
     "name": "stdout",
     "output_type": "stream",
     "text": [
      "dataframe normal has 6994 normally distrbuted genes and 10281 not normally distributed\n",
      "dataframe cancer has 2028 normally distrbuted genes and 15247 not normally distributed\n"
     ]
    }
   ],
   "source": [
    "counter = 0\n",
    "x = ['normal', 'cancer']\n",
    "for df in dfs:\n",
    "    norm = len(df[df['normality'] == 'ND'])\n",
    "    not_norm = len(df[df['normality'] == 'NOT'])\n",
    "    print('dataframe {} has {} normally distrbuted genes and {} not normally distributed'.format( x[counter],norm, not_norm))\n",
    "    counter +=1"
   ]
  },
  {
   "cell_type": "code",
   "execution_count": null,
   "id": "84441084",
   "metadata": {},
   "outputs": [],
   "source": [
    "data = [normal_x.dropna().copy(), cancer_x.dropna().copy()]\n",
    "for df in data:\n",
    "    df.drop('Hugo_Symbol',axis=1, inplace=True)\n",
    "    df.drop('Entrez_Gene_Id',axis=1, inplace=True)\n",
    "    df.drop('normality',axis=1, inplace=True)\n",
    "    print(df.columns)"
   ]
  },
  {
   "cell_type": "code",
   "execution_count": 21,
   "id": "8229d37a",
   "metadata": {},
   "outputs": [
    {
     "data": {
      "text/html": [
       "<div>\n",
       "<style scoped>\n",
       "    .dataframe tbody tr th:only-of-type {\n",
       "        vertical-align: middle;\n",
       "    }\n",
       "\n",
       "    .dataframe tbody tr th {\n",
       "        vertical-align: top;\n",
       "    }\n",
       "\n",
       "    .dataframe thead th {\n",
       "        text-align: right;\n",
       "    }\n",
       "</style>\n",
       "<table border=\"1\" class=\"dataframe\">\n",
       "  <thead>\n",
       "    <tr style=\"text-align: right;\">\n",
       "      <th></th>\n",
       "      <th>TCGA-43-7657</th>\n",
       "      <th>TCGA-58-8386</th>\n",
       "      <th>TCGA-22-5478</th>\n",
       "      <th>TCGA-22-5472</th>\n",
       "      <th>TCGA-43-5670</th>\n",
       "      <th>TCGA-60-2709</th>\n",
       "      <th>TCGA-22-5489</th>\n",
       "      <th>TCGA-77-8007</th>\n",
       "      <th>TCGA-22-5471</th>\n",
       "      <th>TCGA-22-4609</th>\n",
       "      <th>...</th>\n",
       "      <th>TCGA-85-7710</th>\n",
       "      <th>TCGA-56-7580</th>\n",
       "      <th>TCGA-43-6647</th>\n",
       "      <th>TCGA-90-6837</th>\n",
       "      <th>TCGA-56-8083</th>\n",
       "      <th>TCGA-51-4079</th>\n",
       "      <th>TCGA-56-7222</th>\n",
       "      <th>TCGA-22-4593</th>\n",
       "      <th>TCGA-51-4081</th>\n",
       "      <th>TCGA-56-8309</th>\n",
       "    </tr>\n",
       "  </thead>\n",
       "  <tbody>\n",
       "    <tr>\n",
       "      <th>0</th>\n",
       "      <td>62.12</td>\n",
       "      <td>130.60</td>\n",
       "      <td>33.06</td>\n",
       "      <td>35.50</td>\n",
       "      <td>73.03</td>\n",
       "      <td>60.39</td>\n",
       "      <td>92.05</td>\n",
       "      <td>66.65</td>\n",
       "      <td>54.33</td>\n",
       "      <td>15.56</td>\n",
       "      <td>...</td>\n",
       "      <td>90.77</td>\n",
       "      <td>59.55</td>\n",
       "      <td>40.07</td>\n",
       "      <td>22.92</td>\n",
       "      <td>29.91</td>\n",
       "      <td>82.29</td>\n",
       "      <td>4.70</td>\n",
       "      <td>37.32</td>\n",
       "      <td>43.63</td>\n",
       "      <td>77.25</td>\n",
       "    </tr>\n",
       "    <tr>\n",
       "      <th>1</th>\n",
       "      <td>185.11</td>\n",
       "      <td>283.05</td>\n",
       "      <td>119.26</td>\n",
       "      <td>169.07</td>\n",
       "      <td>165.57</td>\n",
       "      <td>161.02</td>\n",
       "      <td>131.51</td>\n",
       "      <td>198.47</td>\n",
       "      <td>175.07</td>\n",
       "      <td>147.06</td>\n",
       "      <td>...</td>\n",
       "      <td>185.11</td>\n",
       "      <td>119.26</td>\n",
       "      <td>102.97</td>\n",
       "      <td>123.50</td>\n",
       "      <td>264.03</td>\n",
       "      <td>194.36</td>\n",
       "      <td>166.73</td>\n",
       "      <td>105.15</td>\n",
       "      <td>185.11</td>\n",
       "      <td>356.05</td>\n",
       "    </tr>\n",
       "    <tr>\n",
       "      <th>2</th>\n",
       "      <td>909.17</td>\n",
       "      <td>819.30</td>\n",
       "      <td>412.00</td>\n",
       "      <td>743.43</td>\n",
       "      <td>1340.84</td>\n",
       "      <td>607.87</td>\n",
       "      <td>1709.26</td>\n",
       "      <td>1709.26</td>\n",
       "      <td>603.67</td>\n",
       "      <td>555.41</td>\n",
       "      <td>...</td>\n",
       "      <td>813.63</td>\n",
       "      <td>2400.97</td>\n",
       "      <td>543.96</td>\n",
       "      <td>2193.99</td>\n",
       "      <td>540.19</td>\n",
       "      <td>521.76</td>\n",
       "      <td>253.23</td>\n",
       "      <td>764.36</td>\n",
       "      <td>518.15</td>\n",
       "      <td>878.17</td>\n",
       "    </tr>\n",
       "    <tr>\n",
       "      <th>3</th>\n",
       "      <td>41.81</td>\n",
       "      <td>18.29</td>\n",
       "      <td>40.93</td>\n",
       "      <td>67.12</td>\n",
       "      <td>54.72</td>\n",
       "      <td>29.27</td>\n",
       "      <td>20.26</td>\n",
       "      <td>23.76</td>\n",
       "      <td>28.04</td>\n",
       "      <td>39.22</td>\n",
       "      <td>...</td>\n",
       "      <td>34.51</td>\n",
       "      <td>70.01</td>\n",
       "      <td>57.49</td>\n",
       "      <td>57.89</td>\n",
       "      <td>67.12</td>\n",
       "      <td>34.51</td>\n",
       "      <td>22.10</td>\n",
       "      <td>31.90</td>\n",
       "      <td>28.24</td>\n",
       "      <td>49.91</td>\n",
       "    </tr>\n",
       "    <tr>\n",
       "      <th>4</th>\n",
       "      <td>133.36</td>\n",
       "      <td>214.27</td>\n",
       "      <td>108.14</td>\n",
       "      <td>109.66</td>\n",
       "      <td>190.34</td>\n",
       "      <td>211.31</td>\n",
       "      <td>96.01</td>\n",
       "      <td>208.38</td>\n",
       "      <td>120.10</td>\n",
       "      <td>239.52</td>\n",
       "      <td>...</td>\n",
       "      <td>251.48</td>\n",
       "      <td>209.84</td>\n",
       "      <td>120.10</td>\n",
       "      <td>109.66</td>\n",
       "      <td>155.50</td>\n",
       "      <td>162.14</td>\n",
       "      <td>277.20</td>\n",
       "      <td>86.43</td>\n",
       "      <td>164.42</td>\n",
       "      <td>155.50</td>\n",
       "    </tr>\n",
       "    <tr>\n",
       "      <th>...</th>\n",
       "      <td>...</td>\n",
       "      <td>...</td>\n",
       "      <td>...</td>\n",
       "      <td>...</td>\n",
       "      <td>...</td>\n",
       "      <td>...</td>\n",
       "      <td>...</td>\n",
       "      <td>...</td>\n",
       "      <td>...</td>\n",
       "      <td>...</td>\n",
       "      <td>...</td>\n",
       "      <td>...</td>\n",
       "      <td>...</td>\n",
       "      <td>...</td>\n",
       "      <td>...</td>\n",
       "      <td>...</td>\n",
       "      <td>...</td>\n",
       "      <td>...</td>\n",
       "      <td>...</td>\n",
       "      <td>...</td>\n",
       "      <td>...</td>\n",
       "    </tr>\n",
       "    <tr>\n",
       "      <th>19641</th>\n",
       "      <td>215.77</td>\n",
       "      <td>148.09</td>\n",
       "      <td>83.45</td>\n",
       "      <td>232.94</td>\n",
       "      <td>167.90</td>\n",
       "      <td>80.01</td>\n",
       "      <td>161.02</td>\n",
       "      <td>104.42</td>\n",
       "      <td>81.14</td>\n",
       "      <td>113.56</td>\n",
       "      <td>...</td>\n",
       "      <td>145.02</td>\n",
       "      <td>202.66</td>\n",
       "      <td>111.99</td>\n",
       "      <td>371.22</td>\n",
       "      <td>154.42</td>\n",
       "      <td>289.02</td>\n",
       "      <td>32.59</td>\n",
       "      <td>191.67</td>\n",
       "      <td>204.07</td>\n",
       "      <td>88.26</td>\n",
       "    </tr>\n",
       "    <tr>\n",
       "      <th>19642</th>\n",
       "      <td>6792.79</td>\n",
       "      <td>5441.30</td>\n",
       "      <td>5831.91</td>\n",
       "      <td>5329.30</td>\n",
       "      <td>5711.87</td>\n",
       "      <td>6164.49</td>\n",
       "      <td>8134.41</td>\n",
       "      <td>6516.03</td>\n",
       "      <td>8598.28</td>\n",
       "      <td>5633.22</td>\n",
       "      <td>...</td>\n",
       "      <td>3955.48</td>\n",
       "      <td>4869.99</td>\n",
       "      <td>6935.54</td>\n",
       "      <td>4836.35</td>\n",
       "      <td>7230.10</td>\n",
       "      <td>6250.56</td>\n",
       "      <td>6840.04</td>\n",
       "      <td>5292.48</td>\n",
       "      <td>3928.15</td>\n",
       "      <td>7130.55</td>\n",
       "    </tr>\n",
       "    <tr>\n",
       "      <th>19643</th>\n",
       "      <td>423.61</td>\n",
       "      <td>529.06</td>\n",
       "      <td>660.68</td>\n",
       "      <td>620.67</td>\n",
       "      <td>518.15</td>\n",
       "      <td>848.22</td>\n",
       "      <td>366.09</td>\n",
       "      <td>1073.91</td>\n",
       "      <td>363.56</td>\n",
       "      <td>366.09</td>\n",
       "      <td>...</td>\n",
       "      <td>559.28</td>\n",
       "      <td>579.04</td>\n",
       "      <td>420.68</td>\n",
       "      <td>366.09</td>\n",
       "      <td>334.46</td>\n",
       "      <td>258.57</td>\n",
       "      <td>329.84</td>\n",
       "      <td>1030.12</td>\n",
       "      <td>665.29</td>\n",
       "      <td>633.73</td>\n",
       "    </tr>\n",
       "    <tr>\n",
       "      <th>19646</th>\n",
       "      <td>0.00</td>\n",
       "      <td>0.00</td>\n",
       "      <td>0.99</td>\n",
       "      <td>3.59</td>\n",
       "      <td>2.23</td>\n",
       "      <td>3.35</td>\n",
       "      <td>0.00</td>\n",
       "      <td>7.34</td>\n",
       "      <td>1.41</td>\n",
       "      <td>0.00</td>\n",
       "      <td>...</td>\n",
       "      <td>6.94</td>\n",
       "      <td>1.00</td>\n",
       "      <td>0.00</td>\n",
       "      <td>4.58</td>\n",
       "      <td>0.96</td>\n",
       "      <td>3.06</td>\n",
       "      <td>1.83</td>\n",
       "      <td>1.77</td>\n",
       "      <td>3.63</td>\n",
       "      <td>2.56</td>\n",
       "    </tr>\n",
       "    <tr>\n",
       "      <th>19647</th>\n",
       "      <td>64.34</td>\n",
       "      <td>101.54</td>\n",
       "      <td>14.45</td>\n",
       "      <td>69.52</td>\n",
       "      <td>110.43</td>\n",
       "      <td>36.53</td>\n",
       "      <td>60.82</td>\n",
       "      <td>116.78</td>\n",
       "      <td>66.18</td>\n",
       "      <td>25.54</td>\n",
       "      <td>...</td>\n",
       "      <td>38.12</td>\n",
       "      <td>17.64</td>\n",
       "      <td>14.56</td>\n",
       "      <td>14.35</td>\n",
       "      <td>5.77</td>\n",
       "      <td>24.28</td>\n",
       "      <td>21.78</td>\n",
       "      <td>16.27</td>\n",
       "      <td>73.54</td>\n",
       "      <td>88.26</td>\n",
       "    </tr>\n",
       "  </tbody>\n",
       "</table>\n",
       "<p>17275 rows × 50 columns</p>\n",
       "</div>"
      ],
      "text/plain": [
       "       TCGA-43-7657  TCGA-58-8386  TCGA-22-5478  TCGA-22-5472  TCGA-43-5670  \\\n",
       "0             62.12        130.60         33.06         35.50         73.03   \n",
       "1            185.11        283.05        119.26        169.07        165.57   \n",
       "2            909.17        819.30        412.00        743.43       1340.84   \n",
       "3             41.81         18.29         40.93         67.12         54.72   \n",
       "4            133.36        214.27        108.14        109.66        190.34   \n",
       "...             ...           ...           ...           ...           ...   \n",
       "19641        215.77        148.09         83.45        232.94        167.90   \n",
       "19642       6792.79       5441.30       5831.91       5329.30       5711.87   \n",
       "19643        423.61        529.06        660.68        620.67        518.15   \n",
       "19646          0.00          0.00          0.99          3.59          2.23   \n",
       "19647         64.34        101.54         14.45         69.52        110.43   \n",
       "\n",
       "       TCGA-60-2709  TCGA-22-5489  TCGA-77-8007  TCGA-22-5471  TCGA-22-4609  \\\n",
       "0             60.39         92.05         66.65         54.33         15.56   \n",
       "1            161.02        131.51        198.47        175.07        147.06   \n",
       "2            607.87       1709.26       1709.26        603.67        555.41   \n",
       "3             29.27         20.26         23.76         28.04         39.22   \n",
       "4            211.31         96.01        208.38        120.10        239.52   \n",
       "...             ...           ...           ...           ...           ...   \n",
       "19641         80.01        161.02        104.42         81.14        113.56   \n",
       "19642       6164.49       8134.41       6516.03       8598.28       5633.22   \n",
       "19643        848.22        366.09       1073.91        363.56        366.09   \n",
       "19646          3.35          0.00          7.34          1.41          0.00   \n",
       "19647         36.53         60.82        116.78         66.18         25.54   \n",
       "\n",
       "       ...  TCGA-85-7710  TCGA-56-7580  TCGA-43-6647  TCGA-90-6837  \\\n",
       "0      ...         90.77         59.55         40.07         22.92   \n",
       "1      ...        185.11        119.26        102.97        123.50   \n",
       "2      ...        813.63       2400.97        543.96       2193.99   \n",
       "3      ...         34.51         70.01         57.49         57.89   \n",
       "4      ...        251.48        209.84        120.10        109.66   \n",
       "...    ...           ...           ...           ...           ...   \n",
       "19641  ...        145.02        202.66        111.99        371.22   \n",
       "19642  ...       3955.48       4869.99       6935.54       4836.35   \n",
       "19643  ...        559.28        579.04        420.68        366.09   \n",
       "19646  ...          6.94          1.00          0.00          4.58   \n",
       "19647  ...         38.12         17.64         14.56         14.35   \n",
       "\n",
       "       TCGA-56-8083  TCGA-51-4079  TCGA-56-7222  TCGA-22-4593  TCGA-51-4081  \\\n",
       "0             29.91         82.29          4.70         37.32         43.63   \n",
       "1            264.03        194.36        166.73        105.15        185.11   \n",
       "2            540.19        521.76        253.23        764.36        518.15   \n",
       "3             67.12         34.51         22.10         31.90         28.24   \n",
       "4            155.50        162.14        277.20         86.43        164.42   \n",
       "...             ...           ...           ...           ...           ...   \n",
       "19641        154.42        289.02         32.59        191.67        204.07   \n",
       "19642       7230.10       6250.56       6840.04       5292.48       3928.15   \n",
       "19643        334.46        258.57        329.84       1030.12        665.29   \n",
       "19646          0.96          3.06          1.83          1.77          3.63   \n",
       "19647          5.77         24.28         21.78         16.27         73.54   \n",
       "\n",
       "       TCGA-56-8309  \n",
       "0             77.25  \n",
       "1            356.05  \n",
       "2            878.17  \n",
       "3             49.91  \n",
       "4            155.50  \n",
       "...             ...  \n",
       "19641         88.26  \n",
       "19642       7130.55  \n",
       "19643        633.73  \n",
       "19646          2.56  \n",
       "19647         88.26  \n",
       "\n",
       "[17275 rows x 50 columns]"
      ]
     },
     "execution_count": 21,
     "metadata": {},
     "output_type": "execute_result"
    }
   ],
   "source": [
    "data[0]"
   ]
  },
  {
   "cell_type": "markdown",
   "id": "ce8928ae",
   "metadata": {},
   "source": [
    "# As the data is not normally distributed ,Only 1124 are normally distributed,"
   ]
  },
  {
   "cell_type": "markdown",
   "id": "a35b7b31",
   "metadata": {},
   "source": [
    "## on the paired will used wilcoxon"
   ]
  },
  {
   "cell_type": "code",
   "execution_count": null,
   "id": "afe6ad67",
   "metadata": {},
   "outputs": [],
   "source": [
    "stat, p = stats.wilcoxon(data[0], data[1], axis=1, alternative='less')\n",
    "wilcoxon = pd.DataFrame(list(zip(normal_x.dropna().Hugo_Symbol, normal_x.dropna().Entrez_Gene_Id, normal_x.dropna().normality, p, stat)))\n",
    "wilcoxon.columns =['Hugo_Symbol', 'Entrez_Gene_Id', 'normality', 'p', 'stat']\n",
    "wilcoxon['expression'] = np.where(wilcoxon['p']>0.05, 'not', 'expressed')\n",
    "print(len(wilcoxon))\n",
    "wilcoxon.head(10)"
   ]
  },
  {
   "cell_type": "markdown",
   "id": "63c0ef69",
   "metadata": {},
   "source": [
    "### on the whole independant dataset we'll use mann"
   ]
  },
  {
   "cell_type": "code",
   "execution_count": 24,
   "id": "ca395f10",
   "metadata": {},
   "outputs": [
    {
     "ename": "TypeError",
     "evalue": "wilcoxon() got an unexpected keyword argument 'axis'",
     "output_type": "error",
     "traceback": [
      "\u001b[1;31m---------------------------------------------------------------------------\u001b[0m",
      "\u001b[1;31mTypeError\u001b[0m                                 Traceback (most recent call last)",
      "Input \u001b[1;32mIn [24]\u001b[0m, in \u001b[0;36m<cell line: 1>\u001b[1;34m()\u001b[0m\n\u001b[1;32m----> 1\u001b[0m stat, p \u001b[38;5;241m=\u001b[39m \u001b[43mstats\u001b[49m\u001b[38;5;241;43m.\u001b[39;49m\u001b[43mwilcoxon\u001b[49m\u001b[43m(\u001b[49m\u001b[43mindep\u001b[49m\u001b[43m[\u001b[49m\u001b[38;5;241;43m0\u001b[39;49m\u001b[43m]\u001b[49m\u001b[43m,\u001b[49m\u001b[43m \u001b[49m\u001b[43mindep\u001b[49m\u001b[43m[\u001b[49m\u001b[38;5;241;43m1\u001b[39;49m\u001b[43m]\u001b[49m\u001b[43m,\u001b[49m\u001b[43m \u001b[49m\u001b[43maxis\u001b[49m\u001b[38;5;241;43m=\u001b[39;49m\u001b[38;5;241;43m1\u001b[39;49m\u001b[43m,\u001b[49m\u001b[43m \u001b[49m\u001b[43malternative\u001b[49m\u001b[38;5;241;43m=\u001b[39;49m\u001b[38;5;124;43m'\u001b[39;49m\u001b[38;5;124;43mless\u001b[39;49m\u001b[38;5;124;43m'\u001b[39;49m\u001b[43m)\u001b[49m\n\u001b[0;32m      2\u001b[0m \u001b[38;5;66;03m# indep_wilcoxon = pd.DataFrame([normal_x.dropna().Hugo_Symbol, normal_x.dropna().Entrez_Gene_Id, normal_x.dropna().normality, p, stat])\u001b[39;00m\n\u001b[0;32m      3\u001b[0m indep_wilcoxon \u001b[38;5;241m=\u001b[39m pd\u001b[38;5;241m.\u001b[39mDataFrame(\u001b[38;5;28mlist\u001b[39m(\u001b[38;5;28mzip\u001b[39m(normal_x\u001b[38;5;241m.\u001b[39mdropna()\u001b[38;5;241m.\u001b[39mHugo_Symbol, normal_x\u001b[38;5;241m.\u001b[39mdropna()\u001b[38;5;241m.\u001b[39mEntrez_Gene_Id, normal_x\u001b[38;5;241m.\u001b[39mdropna()\u001b[38;5;241m.\u001b[39mnormality, p, stat)))\n",
      "\u001b[1;31mTypeError\u001b[0m: wilcoxon() got an unexpected keyword argument 'axis'"
     ]
    }
   ],
   "source": [
    "stat, p =  stats.mannwhitneyu((data[0], data[1], axis=1, alternative='less')\n",
    "mannwhitneyu = pd.DataFrame(list(zip(normal_x.dropna().Hugo_Symbol, normal_x.dropna().Entrez_Gene_Id, normal_x.dropna().normality, p, stat)))\n",
    "mannwhitneyu.columns =['Hugo_Symbol', 'Entrez_Gene_Id', 'normality', 'p', 'stat']\n",
    "mannwhitneyu['expression'] = np.where(mannwhitneyu['p']>0.05, 'not', 'expressed')\n",
    "print(len(mannwhitneyu))\n",
    "mannwhitneyu.head(10)"
   ]
  },
  {
   "cell_type": "code",
   "execution_count": null,
   "id": "8f4cf155",
   "metadata": {},
   "outputs": [],
   "source": [
    "mannwhitneyu.to_csv(\"indep.csv\")\n",
    "wilcoxon.to_csv(\"paired.csv\")"
   ]
  }
 ],
 "metadata": {
  "kernelspec": {
   "display_name": "Python 3 (ipykernel)",
   "language": "python",
   "name": "python3"
  },
  "language_info": {
   "codemirror_mode": {
    "name": "ipython",
    "version": 3
   },
   "file_extension": ".py",
   "mimetype": "text/x-python",
   "name": "python",
   "nbconvert_exporter": "python",
   "pygments_lexer": "ipython3",
   "version": "3.8.8"
  }
 },
 "nbformat": 4,
 "nbformat_minor": 5
}
