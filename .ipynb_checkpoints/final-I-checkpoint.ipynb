{
 "cells": [
  {
   "cell_type": "code",
   "execution_count": 1,
   "id": "53b1c0f2",
   "metadata": {},
   "outputs": [],
   "source": [
    "import pandas as pd\n",
    "import numpy as np\n",
    "import os \n",
    "import re\n",
    "import matplotlib.pyplot as plt\n",
    "import scipy\n",
    "# from scipy.stats.stats import pearsonr \n",
    "import os\n",
    "from pathlib import Path\n",
    "import math\n",
    "from statsmodels.stats.multitest import multipletests\n",
    "import statsmodels\n",
    "from scipy.stats import ttest_rel, ttest_ind\n",
    "from scipy import stats"
   ]
  },
  {
   "cell_type": "code",
   "execution_count": 2,
   "id": "445967ed",
   "metadata": {},
   "outputs": [
    {
     "name": "stdout",
     "output_type": "stream",
     "text": [
      "19648\n",
      "Index(['Hugo_Symbol', 'Entrez_Gene_Id', 'TCGA-43-7657', 'TCGA-58-8386',\n",
      "       'TCGA-22-5478', 'TCGA-22-5472', 'TCGA-43-5670', 'TCGA-60-2709',\n",
      "       'TCGA-22-5489', 'TCGA-77-8007', 'TCGA-22-5471', 'TCGA-22-4609',\n",
      "       'TCGA-22-5482', 'TCGA-56-8082', 'TCGA-22-5483', 'TCGA-56-8623',\n",
      "       'TCGA-33-4587', 'TCGA-56-7579', 'TCGA-43-3394', 'TCGA-34-8454',\n",
      "       'TCGA-77-7338', 'TCGA-43-6143', 'TCGA-43-6773', 'TCGA-51-4080',\n",
      "       'TCGA-34-7107', 'TCGA-39-5040', 'TCGA-43-6771', 'TCGA-92-7340',\n",
      "       'TCGA-77-7138', 'TCGA-77-7142', 'TCGA-56-7823', 'TCGA-22-5491',\n",
      "       'TCGA-22-5481', 'TCGA-90-7767', 'TCGA-77-8008', 'TCGA-56-7730',\n",
      "       'TCGA-33-6737', 'TCGA-56-7582', 'TCGA-56-7731', 'TCGA-77-7337',\n",
      "       'TCGA-43-7658', 'TCGA-56-8201', 'TCGA-85-7710', 'TCGA-56-7580',\n",
      "       'TCGA-43-6647', 'TCGA-90-6837', 'TCGA-56-8083', 'TCGA-51-4079',\n",
      "       'TCGA-56-7222', 'TCGA-22-4593', 'TCGA-51-4081', 'TCGA-56-8309'],\n",
      "      dtype='object')\n",
      "  Hugo_Symbol  Entrez_Gene_Id  TCGA-43-7657  TCGA-58-8386  TCGA-22-5478  \\\n",
      "0    HIST3H2A           92815         62.12        130.60         33.06   \n",
      "1       LIN7B           64130        185.11        283.05        119.26   \n",
      "2         LXN           56925        909.17        819.30        412.00   \n",
      "\n",
      "   TCGA-22-5472  TCGA-43-5670  TCGA-60-2709  TCGA-22-5489  TCGA-77-8007  ...  \\\n",
      "0         35.50         73.03         60.39         92.05         66.65  ...   \n",
      "1        169.07        165.57        161.02        131.51        198.47  ...   \n",
      "2        743.43       1340.84        607.87       1709.26       1709.26  ...   \n",
      "\n",
      "   TCGA-85-7710  TCGA-56-7580  TCGA-43-6647  TCGA-90-6837  TCGA-56-8083  \\\n",
      "0         90.77         59.55         40.07         22.92         29.91   \n",
      "1        185.11        119.26        102.97        123.50        264.03   \n",
      "2        813.63       2400.97        543.96       2193.99        540.19   \n",
      "\n",
      "   TCGA-51-4079  TCGA-56-7222  TCGA-22-4593  TCGA-51-4081  TCGA-56-8309  \n",
      "0         82.29          4.70         37.32         43.63         77.25  \n",
      "1        194.36        166.73        105.15        185.11        356.05  \n",
      "2        521.76        253.23        764.36        518.15        878.17  \n",
      "\n",
      "[3 rows x 52 columns]\n"
     ]
    }
   ],
   "source": [
    "normal =pd.read_csv('data/lusc-rsem-fpkm-tcga_paired.txt', sep=\"\\t\", header=0)\n",
    "print(len(normal))\n",
    "print(normal.columns)\n",
    "print(normal.head(3))"
   ]
  },
  {
   "cell_type": "code",
   "execution_count": 3,
   "id": "44bad6b2",
   "metadata": {
    "scrolled": false
   },
   "outputs": [
    {
     "name": "stdout",
     "output_type": "stream",
     "text": [
      "19648\n",
      "Index(['Hugo_Symbol', 'Entrez_Gene_Id', 'TCGA-43-7657', 'TCGA-58-8386',\n",
      "       'TCGA-22-5478', 'TCGA-22-5472', 'TCGA-43-5670', 'TCGA-60-2709',\n",
      "       'TCGA-22-5489', 'TCGA-77-8007', 'TCGA-22-5471', 'TCGA-22-4609',\n",
      "       'TCGA-22-5482', 'TCGA-56-8082', 'TCGA-22-5483', 'TCGA-56-8623',\n",
      "       'TCGA-33-4587', 'TCGA-56-7579', 'TCGA-43-3394', 'TCGA-34-8454',\n",
      "       'TCGA-77-7338', 'TCGA-43-6143', 'TCGA-43-6773', 'TCGA-51-4080',\n",
      "       'TCGA-34-7107', 'TCGA-39-5040', 'TCGA-43-6771', 'TCGA-92-7340',\n",
      "       'TCGA-77-7138', 'TCGA-77-7142', 'TCGA-56-7823', 'TCGA-22-5491',\n",
      "       'TCGA-22-5481', 'TCGA-90-7767', 'TCGA-77-8008', 'TCGA-56-7730',\n",
      "       'TCGA-33-6737', 'TCGA-56-7582', 'TCGA-56-7731', 'TCGA-77-7337',\n",
      "       'TCGA-43-7658', 'TCGA-56-8201', 'TCGA-85-7710', 'TCGA-56-7580',\n",
      "       'TCGA-43-6647', 'TCGA-90-6837', 'TCGA-56-8083', 'TCGA-51-4079',\n",
      "       'TCGA-56-7222', 'TCGA-22-4593', 'TCGA-51-4081', 'TCGA-56-8309'],\n",
      "      dtype='object')\n",
      "  Hugo_Symbol  Entrez_Gene_Id  TCGA-43-7657  TCGA-58-8386  TCGA-22-5478  \\\n",
      "0    HIST3H2A           92815        336.79        500.46        703.28   \n",
      "1       LIN7B           64130        105.15        212.78        102.25   \n",
      "2         LXN           56925        848.22        236.21        271.48   \n",
      "\n",
      "   TCGA-22-5472  TCGA-43-5670  TCGA-60-2709  TCGA-22-5489  TCGA-77-8007  ...  \\\n",
      "0        287.01        486.75         70.51        145.02         14.03  ...   \n",
      "1        212.78        172.65        244.57        105.89        152.28  ...   \n",
      "2        759.08         61.25        620.67        329.84        599.49  ...   \n",
      "\n",
      "   TCGA-85-7710  TCGA-56-7580  TCGA-43-6647  TCGA-90-6837  TCGA-56-8083  \\\n",
      "0          3.06        420.68        109.66        106.63       1233.75   \n",
      "1        135.24        135.24        151.22        395.18        295.11   \n",
      "2        688.78        204.07        438.59        503.95       3039.30   \n",
      "\n",
      "   TCGA-51-4079  TCGA-56-7222  TCGA-22-4593  TCGA-51-4081  TCGA-56-8309  \n",
      "0        172.65        303.44        228.13        251.48         23.59  \n",
      "1        120.94        114.36         96.68        277.20        153.34  \n",
      "2        607.87        106.63        507.46        255.00        346.29  \n",
      "\n",
      "[3 rows x 52 columns]\n"
     ]
    }
   ],
   "source": [
    "cancer = pd.read_csv('data/lusc-rsem-fpkm-tcga-t_paired.txt', sep=\"\\t\", header=0)\n",
    "print(len(cancer))\n",
    "print(cancer.columns)\n",
    "print(cancer.head(3))"
   ]
  },
  {
   "cell_type": "code",
   "execution_count": 4,
   "id": "a8945e96",
   "metadata": {
    "scrolled": true
   },
   "outputs": [
    {
     "name": "stdout",
     "output_type": "stream",
     "text": [
      "checked\n"
     ]
    }
   ],
   "source": [
    "def check(normal, cancer):\n",
    "    if not (normal.columns == cancer.columns).all():\n",
    "        print('Different Columns')\n",
    "    if not (len(normal) == len(cancer)):\n",
    "        print('Different length')\n",
    "    else: \n",
    "        print('checked')\n",
    "# print(normal.columns == cancer.columns)\n",
    "# print(len(normal) == len(cancer))\n",
    "check(normal, cancer)"
   ]
  },
  {
   "cell_type": "code",
   "execution_count": 5,
   "id": "da14f36a",
   "metadata": {},
   "outputs": [
    {
     "name": "stdout",
     "output_type": "stream",
     "text": [
      "True\n"
     ]
    }
   ],
   "source": [
    "print((normal.columns == cancer.columns).all())"
   ]
  },
  {
   "cell_type": "code",
   "execution_count": 6,
   "id": "4dea0643",
   "metadata": {
    "scrolled": true
   },
   "outputs": [
    {
     "name": "stdout",
     "output_type": "stream",
     "text": [
      "52\n"
     ]
    }
   ],
   "source": [
    "print(len(normal.columns))"
   ]
  },
  {
   "cell_type": "code",
   "execution_count": 7,
   "id": "e876b3de",
   "metadata": {},
   "outputs": [
    {
     "name": "stdout",
     "output_type": "stream",
     "text": [
      "17626 17717\n"
     ]
    }
   ],
   "source": [
    "normal_x = normal[((normal == 0).astype(int).sum(axis=1))<25]\n",
    "cancer_x = cancer[((cancer == 0).astype(int).sum(axis=1))<25]\n",
    "print(len(normal_x), len(cancer_x))"
   ]
  },
  {
   "cell_type": "code",
   "execution_count": 8,
   "id": "76f2ee61",
   "metadata": {
    "scrolled": true
   },
   "outputs": [
    {
     "name": "stdout",
     "output_type": "stream",
     "text": [
      "17275 17275\n"
     ]
    }
   ],
   "source": [
    "names = np.intersect1d(normal_x.Hugo_Symbol, cancer_x.Hugo_Symbol)\n",
    "\n",
    "normal_x = normal_x[normal_x['Hugo_Symbol'].isin(names)]\n",
    "cancer_x = cancer_x[cancer_x['Hugo_Symbol'].isin(names)]\n",
    "normal_x.dropna()\n",
    "cancer_x.dropna()\n",
    "print(len(normal_x), len(cancer_x))"
   ]
  },
  {
   "cell_type": "code",
   "execution_count": 9,
   "id": "5a7bb3dc",
   "metadata": {},
   "outputs": [
    {
     "name": "stdout",
     "output_type": "stream",
     "text": [
      "checked\n"
     ]
    }
   ],
   "source": [
    "check(normal_x, cancer_x)"
   ]
  },
  {
   "cell_type": "code",
   "execution_count": 10,
   "id": "3bcf6d08",
   "metadata": {
    "scrolled": true
   },
   "outputs": [
    {
     "data": {
      "text/plain": [
       "array([62.12, 130.6, 33.06, 35.5, 73.03, 60.39, 92.05, 66.65, 54.33,\n",
       "       15.56, 55.49, 30.34, 14.45, 100.83, 131.51, 59.55, 87.03, 71.5,\n",
       "       23.08, 48.87, 72.52, 115.97, 45.21, 74.58, 8.92, 27.44, 40.64,\n",
       "       35.76, 59.13, 20.86, 37.05, 48.18, 51.71, 49.56, 72.01, 21.94,\n",
       "       27.44, 35.0, 76.17, 28.86, 90.77, 59.55, 40.07, 22.92, 29.91,\n",
       "       82.29, 4.7, 37.32, 43.63, 77.25], dtype=object)"
      ]
     },
     "execution_count": 10,
     "metadata": {},
     "output_type": "execute_result"
    }
   ],
   "source": [
    "np.array(normal_x.iloc[0][2:])"
   ]
  },
  {
   "cell_type": "markdown",
   "id": "326e8c91",
   "metadata": {},
   "source": [
    "# Normality test "
   ]
  },
  {
   "cell_type": "markdown",
   "id": "7570f2a7",
   "metadata": {},
   "source": [
    "## paired "
   ]
  },
  {
   "cell_type": "code",
   "execution_count": 11,
   "id": "ffa7a533",
   "metadata": {
    "scrolled": true
   },
   "outputs": [
    {
     "name": "stdout",
     "output_type": "stream",
     "text": [
      "no of normally distributed 5861 and no of not normally distributed 11414\n"
     ]
    }
   ],
   "source": [
    "df=normal_x.drop(\"Hugo_Symbol\",axis=1).drop(\"Entrez_Gene_Id\",axis=1)-cancer_x.drop(\"Hugo_Symbol\",axis=1).drop(\"Entrez_Gene_Id\",axis=1)\n",
    "for i in range (len(df)):\n",
    "        sample = np.array(df.iloc[i][2:-1])\n",
    "        stat,pval = stats.shapiro(sample)\n",
    "        if pval > 0.05 :\n",
    "            df.at[i,'paired'] = 'ND'\n",
    "        else: \n",
    "            df.at[i,'paired'] = 'NOT'\n",
    "norm = len(df[df['paired'] == 'ND'])\n",
    "Not = len(df[df['paired'] == 'NOT'])\n",
    "print(f\"no of normally distributed {norm} and no of not normally distributed {Not}\")"
   ]
  },
  {
   "cell_type": "markdown",
   "id": "5c639d26",
   "metadata": {},
   "source": [
    "### Independent "
   ]
  },
  {
   "cell_type": "code",
   "execution_count": null,
   "id": "a8707319",
   "metadata": {
    "scrolled": false
   },
   "outputs": [],
   "source": [
    "dfs = [normal_x, cancer_x]\n",
    "for df in dfs:\n",
    "    df['normality'] = ''\n",
    "    for i in range (len(df)):\n",
    "        sample = np.array(df.iloc[i][2:-1])\n",
    "        stat,pval = stats.shapiro(sample)\n",
    "        if pval > 0.05 :\n",
    "            df.at[i,'normality'] = 'ND'\n",
    "        else: \n",
    "            df.at[i,'normality'] = 'NOT'\n",
    "    df.head(3)\n"
   ]
  },
  {
   "cell_type": "code",
   "execution_count": null,
   "id": "099ebd27",
   "metadata": {},
   "outputs": [],
   "source": [
    "counter = 0\n",
    "x = ['normal', 'cancer']\n",
    "for df in dfs:\n",
    "    norm = len(df[df['normality'] == 'ND'])\n",
    "    not_norm = len(df[df['normality'] == 'NOT'])\n",
    "    print('dataframe {} has {} normally distrbuted genes and {} not normally distributed'.format( x[counter],norm, not_norm))\n",
    "    counter +=1"
   ]
  },
  {
   "cell_type": "code",
   "execution_count": null,
   "id": "84441084",
   "metadata": {},
   "outputs": [],
   "source": [
    "data = [normal_x.dropna().copy(), cancer_x.dropna().copy()]\n",
    "for df in data:\n",
    "    df.drop('Hugo_Symbol',axis=1, inplace=True)\n",
    "    df.drop('Entrez_Gene_Id',axis=1, inplace=True)\n",
    "    df.drop('normality',axis=1, inplace=True)\n",
    "    print(df.columns)"
   ]
  },
  {
   "cell_type": "code",
   "execution_count": null,
   "id": "8229d37a",
   "metadata": {},
   "outputs": [],
   "source": [
    "data[0]"
   ]
  },
  {
   "cell_type": "markdown",
   "id": "ce8928ae",
   "metadata": {},
   "source": [
    "# As the data is not normally distributed ,Only 1124 are normally distributed,"
   ]
  },
  {
   "cell_type": "markdown",
   "id": "a35b7b31",
   "metadata": {},
   "source": [
    "## on the paired will used wilcoxon"
   ]
  },
  {
   "cell_type": "code",
   "execution_count": null,
   "id": "afe6ad67",
   "metadata": {},
   "outputs": [],
   "source": [
    "stat, p = stats.wilcoxon(data[0], data[1], axis=1, alternative='less')\n",
    "wilcoxon = pd.DataFrame(list(zip(normal_x.dropna().Hugo_Symbol, normal_x.dropna().Entrez_Gene_Id, normal_x.dropna().normality, p, stat)))\n",
    "wilcoxon.columns =['Hugo_Symbol', 'Entrez_Gene_Id', 'normality', 'p', 'stat']\n",
    "wilcoxon['expression'] = np.where(wilcoxon['p']>0.05, 'not', 'expressed')\n",
    "print(len(wilcoxon))\n",
    "wilcoxon.head(10)"
   ]
  },
  {
   "cell_type": "markdown",
   "id": "63c0ef69",
   "metadata": {},
   "source": [
    "### on the whole independant dataset we'll use mann"
   ]
  },
  {
   "cell_type": "code",
   "execution_count": 24,
   "id": "ca395f10",
   "metadata": {},
   "outputs": [
    {
     "ename": "TypeError",
     "evalue": "wilcoxon() got an unexpected keyword argument 'axis'",
     "output_type": "error",
     "traceback": [
      "\u001b[1;31m---------------------------------------------------------------------------\u001b[0m",
      "\u001b[1;31mTypeError\u001b[0m                                 Traceback (most recent call last)",
      "Input \u001b[1;32mIn [24]\u001b[0m, in \u001b[0;36m<cell line: 1>\u001b[1;34m()\u001b[0m\n\u001b[1;32m----> 1\u001b[0m stat, p \u001b[38;5;241m=\u001b[39m \u001b[43mstats\u001b[49m\u001b[38;5;241;43m.\u001b[39;49m\u001b[43mwilcoxon\u001b[49m\u001b[43m(\u001b[49m\u001b[43mindep\u001b[49m\u001b[43m[\u001b[49m\u001b[38;5;241;43m0\u001b[39;49m\u001b[43m]\u001b[49m\u001b[43m,\u001b[49m\u001b[43m \u001b[49m\u001b[43mindep\u001b[49m\u001b[43m[\u001b[49m\u001b[38;5;241;43m1\u001b[39;49m\u001b[43m]\u001b[49m\u001b[43m,\u001b[49m\u001b[43m \u001b[49m\u001b[43maxis\u001b[49m\u001b[38;5;241;43m=\u001b[39;49m\u001b[38;5;241;43m1\u001b[39;49m\u001b[43m,\u001b[49m\u001b[43m \u001b[49m\u001b[43malternative\u001b[49m\u001b[38;5;241;43m=\u001b[39;49m\u001b[38;5;124;43m'\u001b[39;49m\u001b[38;5;124;43mless\u001b[39;49m\u001b[38;5;124;43m'\u001b[39;49m\u001b[43m)\u001b[49m\n\u001b[0;32m      2\u001b[0m \u001b[38;5;66;03m# indep_wilcoxon = pd.DataFrame([normal_x.dropna().Hugo_Symbol, normal_x.dropna().Entrez_Gene_Id, normal_x.dropna().normality, p, stat])\u001b[39;00m\n\u001b[0;32m      3\u001b[0m indep_wilcoxon \u001b[38;5;241m=\u001b[39m pd\u001b[38;5;241m.\u001b[39mDataFrame(\u001b[38;5;28mlist\u001b[39m(\u001b[38;5;28mzip\u001b[39m(normal_x\u001b[38;5;241m.\u001b[39mdropna()\u001b[38;5;241m.\u001b[39mHugo_Symbol, normal_x\u001b[38;5;241m.\u001b[39mdropna()\u001b[38;5;241m.\u001b[39mEntrez_Gene_Id, normal_x\u001b[38;5;241m.\u001b[39mdropna()\u001b[38;5;241m.\u001b[39mnormality, p, stat)))\n",
      "\u001b[1;31mTypeError\u001b[0m: wilcoxon() got an unexpected keyword argument 'axis'"
     ]
    }
   ],
   "source": [
    "stat, p =  stats.mannwhitneyu((data[0], data[1], axis=1, alternative='less')\n",
    "mannwhitneyu = pd.DataFrame(list(zip(normal_x.dropna().Hugo_Symbol, normal_x.dropna().Entrez_Gene_Id, normal_x.dropna().normality, p, stat)))\n",
    "mannwhitneyu.columns =['Hugo_Symbol', 'Entrez_Gene_Id', 'normality', 'p', 'stat']\n",
    "mannwhitneyu['expression'] = np.where(mannwhitneyu['p']>0.05, 'not', 'expressed')\n",
    "print(len(mannwhitneyu))\n",
    "mannwhitneyu.head(10)"
   ]
  },
  {
   "cell_type": "code",
   "execution_count": null,
   "id": "8f4cf155",
   "metadata": {},
   "outputs": [],
   "source": [
    "mannwhitneyu.to_csv(\"indep.csv\")\n",
    "wilcoxon.to_csv(\"paired.csv\")"
   ]
  }
 ],
 "metadata": {
  "kernelspec": {
   "display_name": "Python 3 (ipykernel)",
   "language": "python",
   "name": "python3"
  },
  "language_info": {
   "codemirror_mode": {
    "name": "ipython",
    "version": 3
   },
   "file_extension": ".py",
   "mimetype": "text/x-python",
   "name": "python",
   "nbconvert_exporter": "python",
   "pygments_lexer": "ipython3",
   "version": "3.8.11"
  }
 },
 "nbformat": 4,
 "nbformat_minor": 5
}
