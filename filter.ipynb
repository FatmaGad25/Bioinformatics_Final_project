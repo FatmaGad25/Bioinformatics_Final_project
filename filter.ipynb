{
 "cells": [
  {
   "cell_type": "code",
   "execution_count": 1,
   "id": "53b1c0f2",
   "metadata": {},
   "outputs": [],
   "source": [
    "import pandas as pd\n",
    "import numpy as np\n",
    "import os \n",
    "import re\n",
    "import matplotlib.pyplot as plt\n",
    "import scipy\n",
    "# from scipy.stats.stats import pearsonr \n",
    "import os\n",
    "from pathlib import Path\n",
    "import math\n",
    "from statsmodels.stats.multitest import multipletests\n",
    "import statsmodels\n",
    "from scipy.stats import ttest_rel, ttest_ind\n",
    "from scipy import stats"
   ]
  },
  {
   "cell_type": "code",
   "execution_count": 2,
   "id": "445967ed",
   "metadata": {},
   "outputs": [
    {
     "name": "stdout",
     "output_type": "stream",
     "text": [
      "19648\n",
      "Index(['Hugo_Symbol', 'Entrez_Gene_Id', 'TCGA-43-7657', 'TCGA-58-8386',\n",
      "       'TCGA-22-5478', 'TCGA-22-5472', 'TCGA-43-5670', 'TCGA-60-2709',\n",
      "       'TCGA-22-5489', 'TCGA-77-8007', 'TCGA-22-5471', 'TCGA-22-4609',\n",
      "       'TCGA-22-5482', 'TCGA-56-8082', 'TCGA-22-5483', 'TCGA-56-8623',\n",
      "       'TCGA-33-4587', 'TCGA-56-7579', 'TCGA-43-3394', 'TCGA-34-8454',\n",
      "       'TCGA-77-7338', 'TCGA-43-6143', 'TCGA-43-6773', 'TCGA-51-4080',\n",
      "       'TCGA-34-7107', 'TCGA-39-5040', 'TCGA-43-6771', 'TCGA-92-7340',\n",
      "       'TCGA-77-7138', 'TCGA-77-7142', 'TCGA-56-7823', 'TCGA-22-5491',\n",
      "       'TCGA-22-5481', 'TCGA-90-7767', 'TCGA-77-8008', 'TCGA-56-7730',\n",
      "       'TCGA-33-6737', 'TCGA-56-7582', 'TCGA-56-7731', 'TCGA-77-7337',\n",
      "       'TCGA-43-7658', 'TCGA-56-8201', 'TCGA-85-7710', 'TCGA-56-7580',\n",
      "       'TCGA-43-6647', 'TCGA-90-6837', 'TCGA-56-8083', 'TCGA-51-4079',\n",
      "       'TCGA-56-7222', 'TCGA-22-4593', 'TCGA-51-4081', 'TCGA-56-8309'],\n",
      "      dtype='object')\n",
      "  Hugo_Symbol  Entrez_Gene_Id  TCGA-43-7657  TCGA-58-8386  TCGA-22-5478  \\\n",
      "0    HIST3H2A           92815         62.12        130.60         33.06   \n",
      "1       LIN7B           64130        185.11        283.05        119.26   \n",
      "2         LXN           56925        909.17        819.30        412.00   \n",
      "\n",
      "   TCGA-22-5472  TCGA-43-5670  TCGA-60-2709  TCGA-22-5489  TCGA-77-8007  ...  \\\n",
      "0         35.50         73.03         60.39         92.05         66.65  ...   \n",
      "1        169.07        165.57        161.02        131.51        198.47  ...   \n",
      "2        743.43       1340.84        607.87       1709.26       1709.26  ...   \n",
      "\n",
      "   TCGA-85-7710  TCGA-56-7580  TCGA-43-6647  TCGA-90-6837  TCGA-56-8083  \\\n",
      "0         90.77         59.55         40.07         22.92         29.91   \n",
      "1        185.11        119.26        102.97        123.50        264.03   \n",
      "2        813.63       2400.97        543.96       2193.99        540.19   \n",
      "\n",
      "   TCGA-51-4079  TCGA-56-7222  TCGA-22-4593  TCGA-51-4081  TCGA-56-8309  \n",
      "0         82.29          4.70         37.32         43.63         77.25  \n",
      "1        194.36        166.73        105.15        185.11        356.05  \n",
      "2        521.76        253.23        764.36        518.15        878.17  \n",
      "\n",
      "[3 rows x 52 columns]\n"
     ]
    }
   ],
   "source": [
    "normal =pd.read_csv('data/lusc-rsem-fpkm-tcga_paired.txt', sep=\"\\t\", header=0)\n",
    "print(len(normal))\n",
    "print(normal.columns)\n",
    "print(normal.head(3))"
   ]
  },
  {
   "cell_type": "code",
   "execution_count": 3,
   "id": "44bad6b2",
   "metadata": {
    "scrolled": false
   },
   "outputs": [
    {
     "name": "stdout",
     "output_type": "stream",
     "text": [
      "19648\n",
      "Index(['Hugo_Symbol', 'Entrez_Gene_Id', 'TCGA-43-7657', 'TCGA-58-8386',\n",
      "       'TCGA-22-5478', 'TCGA-22-5472', 'TCGA-43-5670', 'TCGA-60-2709',\n",
      "       'TCGA-22-5489', 'TCGA-77-8007', 'TCGA-22-5471', 'TCGA-22-4609',\n",
      "       'TCGA-22-5482', 'TCGA-56-8082', 'TCGA-22-5483', 'TCGA-56-8623',\n",
      "       'TCGA-33-4587', 'TCGA-56-7579', 'TCGA-43-3394', 'TCGA-34-8454',\n",
      "       'TCGA-77-7338', 'TCGA-43-6143', 'TCGA-43-6773', 'TCGA-51-4080',\n",
      "       'TCGA-34-7107', 'TCGA-39-5040', 'TCGA-43-6771', 'TCGA-92-7340',\n",
      "       'TCGA-77-7138', 'TCGA-77-7142', 'TCGA-56-7823', 'TCGA-22-5491',\n",
      "       'TCGA-22-5481', 'TCGA-90-7767', 'TCGA-77-8008', 'TCGA-56-7730',\n",
      "       'TCGA-33-6737', 'TCGA-56-7582', 'TCGA-56-7731', 'TCGA-77-7337',\n",
      "       'TCGA-43-7658', 'TCGA-56-8201', 'TCGA-85-7710', 'TCGA-56-7580',\n",
      "       'TCGA-43-6647', 'TCGA-90-6837', 'TCGA-56-8083', 'TCGA-51-4079',\n",
      "       'TCGA-56-7222', 'TCGA-22-4593', 'TCGA-51-4081', 'TCGA-56-8309'],\n",
      "      dtype='object')\n",
      "  Hugo_Symbol  Entrez_Gene_Id  TCGA-43-7657  TCGA-58-8386  TCGA-22-5478  \\\n",
      "0    HIST3H2A           92815        336.79        500.46        703.28   \n",
      "1       LIN7B           64130        105.15        212.78        102.25   \n",
      "2         LXN           56925        848.22        236.21        271.48   \n",
      "\n",
      "   TCGA-22-5472  TCGA-43-5670  TCGA-60-2709  TCGA-22-5489  TCGA-77-8007  ...  \\\n",
      "0        287.01        486.75         70.51        145.02         14.03  ...   \n",
      "1        212.78        172.65        244.57        105.89        152.28  ...   \n",
      "2        759.08         61.25        620.67        329.84        599.49  ...   \n",
      "\n",
      "   TCGA-85-7710  TCGA-56-7580  TCGA-43-6647  TCGA-90-6837  TCGA-56-8083  \\\n",
      "0          3.06        420.68        109.66        106.63       1233.75   \n",
      "1        135.24        135.24        151.22        395.18        295.11   \n",
      "2        688.78        204.07        438.59        503.95       3039.30   \n",
      "\n",
      "   TCGA-51-4079  TCGA-56-7222  TCGA-22-4593  TCGA-51-4081  TCGA-56-8309  \n",
      "0        172.65        303.44        228.13        251.48         23.59  \n",
      "1        120.94        114.36         96.68        277.20        153.34  \n",
      "2        607.87        106.63        507.46        255.00        346.29  \n",
      "\n",
      "[3 rows x 52 columns]\n"
     ]
    }
   ],
   "source": [
    "cancer = pd.read_csv('data/lusc-rsem-fpkm-tcga-t_paired.txt', sep=\"\\t\", header=0)\n",
    "print(len(cancer))\n",
    "print(cancer.columns)\n",
    "print(cancer.head(3))"
   ]
  },
  {
   "cell_type": "code",
   "execution_count": 4,
   "id": "a8945e96",
   "metadata": {
    "scrolled": true
   },
   "outputs": [
    {
     "name": "stdout",
     "output_type": "stream",
     "text": [
      "checked\n"
     ]
    }
   ],
   "source": [
    "def check(normal, cancer):\n",
    "    if not (normal.columns == cancer.columns).all():\n",
    "        print('Different Columns')\n",
    "    if not (len(normal) == len(cancer)):\n",
    "        print('Different length')\n",
    "    else: \n",
    "        print('checked')\n",
    "# print(normal.columns == cancer.columns)\n",
    "# print(len(normal) == len(cancer))\n",
    "check(normal, cancer)"
   ]
  },
  {
   "cell_type": "code",
   "execution_count": 5,
   "id": "da14f36a",
   "metadata": {},
   "outputs": [
    {
     "name": "stdout",
     "output_type": "stream",
     "text": [
      "True\n"
     ]
    }
   ],
   "source": [
    "print((normal.columns == cancer.columns).all())"
   ]
  },
  {
   "cell_type": "code",
   "execution_count": 6,
   "id": "4dea0643",
   "metadata": {
    "scrolled": true
   },
   "outputs": [
    {
     "name": "stdout",
     "output_type": "stream",
     "text": [
      "52\n"
     ]
    }
   ],
   "source": [
    "print(len(normal.columns))"
   ]
  },
  {
   "cell_type": "code",
   "execution_count": 7,
   "id": "e876b3de",
   "metadata": {},
   "outputs": [
    {
     "name": "stdout",
     "output_type": "stream",
     "text": [
      "17626 17717\n"
     ]
    }
   ],
   "source": [
    "normal_x = normal[((normal == 0).astype(int).sum(axis=1))<25]\n",
    "cancer_x = cancer[((cancer == 0).astype(int).sum(axis=1))<25]\n",
    "print(len(normal_x), len(cancer_x))"
   ]
  },
  {
   "cell_type": "code",
   "execution_count": 8,
   "id": "76f2ee61",
   "metadata": {
    "scrolled": true
   },
   "outputs": [
    {
     "name": "stdout",
     "output_type": "stream",
     "text": [
      "17275 17275\n"
     ]
    }
   ],
   "source": [
    "names = np.intersect1d(normal_x.Hugo_Symbol, cancer_x.Hugo_Symbol)\n",
    "\n",
    "normal_x = normal_x[normal_x['Hugo_Symbol'].isin(names)]\n",
    "cancer_x = cancer_x[cancer_x['Hugo_Symbol'].isin(names)]\n",
    "normal_x.dropna()\n",
    "cancer_x.dropna()\n",
    "print(len(normal_x), len(cancer_x))"
   ]
  },
  {
   "cell_type": "code",
   "execution_count": 9,
   "id": "42ff53f9",
   "metadata": {},
   "outputs": [
    {
     "data": {
      "text/html": [
       "<div>\n",
       "<style scoped>\n",
       "    .dataframe tbody tr th:only-of-type {\n",
       "        vertical-align: middle;\n",
       "    }\n",
       "\n",
       "    .dataframe tbody tr th {\n",
       "        vertical-align: top;\n",
       "    }\n",
       "\n",
       "    .dataframe thead th {\n",
       "        text-align: right;\n",
       "    }\n",
       "</style>\n",
       "<table border=\"1\" class=\"dataframe\">\n",
       "  <thead>\n",
       "    <tr style=\"text-align: right;\">\n",
       "      <th></th>\n",
       "      <th>Hugo_Symbol</th>\n",
       "      <th>Entrez_Gene_Id</th>\n",
       "      <th>TCGA-43-7657</th>\n",
       "      <th>TCGA-58-8386</th>\n",
       "      <th>TCGA-22-5478</th>\n",
       "      <th>TCGA-22-5472</th>\n",
       "      <th>TCGA-43-5670</th>\n",
       "      <th>TCGA-60-2709</th>\n",
       "      <th>TCGA-22-5489</th>\n",
       "      <th>TCGA-77-8007</th>\n",
       "      <th>...</th>\n",
       "      <th>TCGA-85-7710</th>\n",
       "      <th>TCGA-56-7580</th>\n",
       "      <th>TCGA-43-6647</th>\n",
       "      <th>TCGA-90-6837</th>\n",
       "      <th>TCGA-56-8083</th>\n",
       "      <th>TCGA-51-4079</th>\n",
       "      <th>TCGA-56-7222</th>\n",
       "      <th>TCGA-22-4593</th>\n",
       "      <th>TCGA-51-4081</th>\n",
       "      <th>TCGA-56-8309</th>\n",
       "    </tr>\n",
       "  </thead>\n",
       "  <tbody>\n",
       "    <tr>\n",
       "      <th>0</th>\n",
       "      <td>HIST3H2A</td>\n",
       "      <td>92815</td>\n",
       "      <td>336.79</td>\n",
       "      <td>500.46</td>\n",
       "      <td>703.28</td>\n",
       "      <td>287.01</td>\n",
       "      <td>486.75</td>\n",
       "      <td>70.51</td>\n",
       "      <td>145.02</td>\n",
       "      <td>14.03</td>\n",
       "      <td>...</td>\n",
       "      <td>3.06</td>\n",
       "      <td>420.68</td>\n",
       "      <td>109.66</td>\n",
       "      <td>106.63</td>\n",
       "      <td>1233.75</td>\n",
       "      <td>172.65</td>\n",
       "      <td>303.44</td>\n",
       "      <td>228.13</td>\n",
       "      <td>251.48</td>\n",
       "      <td>23.59</td>\n",
       "    </tr>\n",
       "    <tr>\n",
       "      <th>1</th>\n",
       "      <td>LIN7B</td>\n",
       "      <td>64130</td>\n",
       "      <td>105.15</td>\n",
       "      <td>212.78</td>\n",
       "      <td>102.25</td>\n",
       "      <td>212.78</td>\n",
       "      <td>172.65</td>\n",
       "      <td>244.57</td>\n",
       "      <td>105.89</td>\n",
       "      <td>152.28</td>\n",
       "      <td>...</td>\n",
       "      <td>135.24</td>\n",
       "      <td>135.24</td>\n",
       "      <td>151.22</td>\n",
       "      <td>395.18</td>\n",
       "      <td>295.11</td>\n",
       "      <td>120.94</td>\n",
       "      <td>114.36</td>\n",
       "      <td>96.68</td>\n",
       "      <td>277.20</td>\n",
       "      <td>153.34</td>\n",
       "    </tr>\n",
       "    <tr>\n",
       "      <th>2</th>\n",
       "      <td>LXN</td>\n",
       "      <td>56925</td>\n",
       "      <td>848.22</td>\n",
       "      <td>236.21</td>\n",
       "      <td>271.48</td>\n",
       "      <td>759.08</td>\n",
       "      <td>61.25</td>\n",
       "      <td>620.67</td>\n",
       "      <td>329.84</td>\n",
       "      <td>599.49</td>\n",
       "      <td>...</td>\n",
       "      <td>688.78</td>\n",
       "      <td>204.07</td>\n",
       "      <td>438.59</td>\n",
       "      <td>503.95</td>\n",
       "      <td>3039.30</td>\n",
       "      <td>607.87</td>\n",
       "      <td>106.63</td>\n",
       "      <td>507.46</td>\n",
       "      <td>255.00</td>\n",
       "      <td>346.29</td>\n",
       "    </tr>\n",
       "    <tr>\n",
       "      <th>3</th>\n",
       "      <td>CNKSR2</td>\n",
       "      <td>22866</td>\n",
       "      <td>32.59</td>\n",
       "      <td>8.51</td>\n",
       "      <td>45.85</td>\n",
       "      <td>6.16</td>\n",
       "      <td>49.21</td>\n",
       "      <td>11.91</td>\n",
       "      <td>12.27</td>\n",
       "      <td>15.00</td>\n",
       "      <td>...</td>\n",
       "      <td>1.38</td>\n",
       "      <td>6.62</td>\n",
       "      <td>6.11</td>\n",
       "      <td>1.66</td>\n",
       "      <td>33.54</td>\n",
       "      <td>3.11</td>\n",
       "      <td>0.82</td>\n",
       "      <td>3.32</td>\n",
       "      <td>27.25</td>\n",
       "      <td>6.16</td>\n",
       "    </tr>\n",
       "    <tr>\n",
       "      <th>4</th>\n",
       "      <td>SCML1</td>\n",
       "      <td>6322</td>\n",
       "      <td>84.63</td>\n",
       "      <td>74.58</td>\n",
       "      <td>67.12</td>\n",
       "      <td>57.89</td>\n",
       "      <td>102.97</td>\n",
       "      <td>132.44</td>\n",
       "      <td>66.65</td>\n",
       "      <td>57.08</td>\n",
       "      <td>...</td>\n",
       "      <td>165.57</td>\n",
       "      <td>119.26</td>\n",
       "      <td>87.65</td>\n",
       "      <td>53.57</td>\n",
       "      <td>232.94</td>\n",
       "      <td>67.12</td>\n",
       "      <td>64.80</td>\n",
       "      <td>90.14</td>\n",
       "      <td>198.47</td>\n",
       "      <td>154.42</td>\n",
       "    </tr>\n",
       "    <tr>\n",
       "      <th>...</th>\n",
       "      <td>...</td>\n",
       "      <td>...</td>\n",
       "      <td>...</td>\n",
       "      <td>...</td>\n",
       "      <td>...</td>\n",
       "      <td>...</td>\n",
       "      <td>...</td>\n",
       "      <td>...</td>\n",
       "      <td>...</td>\n",
       "      <td>...</td>\n",
       "      <td>...</td>\n",
       "      <td>...</td>\n",
       "      <td>...</td>\n",
       "      <td>...</td>\n",
       "      <td>...</td>\n",
       "      <td>...</td>\n",
       "      <td>...</td>\n",
       "      <td>...</td>\n",
       "      <td>...</td>\n",
       "      <td>...</td>\n",
       "      <td>...</td>\n",
       "    </tr>\n",
       "    <tr>\n",
       "      <th>19641</th>\n",
       "      <td>ZNF521</td>\n",
       "      <td>25925</td>\n",
       "      <td>37.32</td>\n",
       "      <td>76.71</td>\n",
       "      <td>59.97</td>\n",
       "      <td>84.04</td>\n",
       "      <td>14.24</td>\n",
       "      <td>202.66</td>\n",
       "      <td>435.55</td>\n",
       "      <td>59.55</td>\n",
       "      <td>...</td>\n",
       "      <td>22.59</td>\n",
       "      <td>33.78</td>\n",
       "      <td>148.09</td>\n",
       "      <td>106.63</td>\n",
       "      <td>297.17</td>\n",
       "      <td>22.26</td>\n",
       "      <td>25.72</td>\n",
       "      <td>106.63</td>\n",
       "      <td>71.00</td>\n",
       "      <td>37.05</td>\n",
       "    </tr>\n",
       "    <tr>\n",
       "      <th>19642</th>\n",
       "      <td>SPINT2</td>\n",
       "      <td>10653</td>\n",
       "      <td>56265.94</td>\n",
       "      <td>3901.01</td>\n",
       "      <td>16843.62</td>\n",
       "      <td>12244.81</td>\n",
       "      <td>37901.36</td>\n",
       "      <td>8479.89</td>\n",
       "      <td>9606.86</td>\n",
       "      <td>10959.30</td>\n",
       "      <td>...</td>\n",
       "      <td>18052.61</td>\n",
       "      <td>15392.14</td>\n",
       "      <td>20030.74</td>\n",
       "      <td>20593.91</td>\n",
       "      <td>9808.75</td>\n",
       "      <td>11189.60</td>\n",
       "      <td>10733.74</td>\n",
       "      <td>10014.87</td>\n",
       "      <td>6983.79</td>\n",
       "      <td>23169.48</td>\n",
       "    </tr>\n",
       "    <tr>\n",
       "      <th>19643</th>\n",
       "      <td>HAVCR2</td>\n",
       "      <td>84868</td>\n",
       "      <td>74.58</td>\n",
       "      <td>432.53</td>\n",
       "      <td>128.79</td>\n",
       "      <td>208.38</td>\n",
       "      <td>13.93</td>\n",
       "      <td>633.73</td>\n",
       "      <td>348.71</td>\n",
       "      <td>420.68</td>\n",
       "      <td>...</td>\n",
       "      <td>150.17</td>\n",
       "      <td>57.49</td>\n",
       "      <td>236.21</td>\n",
       "      <td>353.59</td>\n",
       "      <td>29.48</td>\n",
       "      <td>202.66</td>\n",
       "      <td>33.78</td>\n",
       "      <td>73.54</td>\n",
       "      <td>55.89</td>\n",
       "      <td>480.04</td>\n",
       "    </tr>\n",
       "    <tr>\n",
       "      <th>19646</th>\n",
       "      <td>CTD-2116N17.1</td>\n",
       "      <td>0</td>\n",
       "      <td>6.89</td>\n",
       "      <td>10.79</td>\n",
       "      <td>8.51</td>\n",
       "      <td>6.84</td>\n",
       "      <td>9.13</td>\n",
       "      <td>9.93</td>\n",
       "      <td>14.78</td>\n",
       "      <td>15.56</td>\n",
       "      <td>...</td>\n",
       "      <td>8.85</td>\n",
       "      <td>6.21</td>\n",
       "      <td>4.94</td>\n",
       "      <td>17.64</td>\n",
       "      <td>28.65</td>\n",
       "      <td>14.78</td>\n",
       "      <td>27.64</td>\n",
       "      <td>15.80</td>\n",
       "      <td>31.00</td>\n",
       "      <td>4.86</td>\n",
       "    </tr>\n",
       "    <tr>\n",
       "      <th>19647</th>\n",
       "      <td>FUT2</td>\n",
       "      <td>2524</td>\n",
       "      <td>105.15</td>\n",
       "      <td>58.30</td>\n",
       "      <td>39.79</td>\n",
       "      <td>1059.11</td>\n",
       "      <td>366.09</td>\n",
       "      <td>97.36</td>\n",
       "      <td>46.50</td>\n",
       "      <td>101.54</td>\n",
       "      <td>...</td>\n",
       "      <td>106.63</td>\n",
       "      <td>35.50</td>\n",
       "      <td>55.49</td>\n",
       "      <td>738.29</td>\n",
       "      <td>232.94</td>\n",
       "      <td>244.57</td>\n",
       "      <td>71.50</td>\n",
       "      <td>53.57</td>\n",
       "      <td>332.14</td>\n",
       "      <td>69.52</td>\n",
       "    </tr>\n",
       "  </tbody>\n",
       "</table>\n",
       "<p>17275 rows × 52 columns</p>\n",
       "</div>"
      ],
      "text/plain": [
       "         Hugo_Symbol  Entrez_Gene_Id  TCGA-43-7657  TCGA-58-8386  \\\n",
       "0           HIST3H2A           92815        336.79        500.46   \n",
       "1              LIN7B           64130        105.15        212.78   \n",
       "2                LXN           56925        848.22        236.21   \n",
       "3             CNKSR2           22866         32.59          8.51   \n",
       "4              SCML1            6322         84.63         74.58   \n",
       "...              ...             ...           ...           ...   \n",
       "19641         ZNF521           25925         37.32         76.71   \n",
       "19642         SPINT2           10653      56265.94       3901.01   \n",
       "19643         HAVCR2           84868         74.58        432.53   \n",
       "19646  CTD-2116N17.1               0          6.89         10.79   \n",
       "19647           FUT2            2524        105.15         58.30   \n",
       "\n",
       "       TCGA-22-5478  TCGA-22-5472  TCGA-43-5670  TCGA-60-2709  TCGA-22-5489  \\\n",
       "0            703.28        287.01        486.75         70.51        145.02   \n",
       "1            102.25        212.78        172.65        244.57        105.89   \n",
       "2            271.48        759.08         61.25        620.67        329.84   \n",
       "3             45.85          6.16         49.21         11.91         12.27   \n",
       "4             67.12         57.89        102.97        132.44         66.65   \n",
       "...             ...           ...           ...           ...           ...   \n",
       "19641         59.97         84.04         14.24        202.66        435.55   \n",
       "19642      16843.62      12244.81      37901.36       8479.89       9606.86   \n",
       "19643        128.79        208.38         13.93        633.73        348.71   \n",
       "19646          8.51          6.84          9.13          9.93         14.78   \n",
       "19647         39.79       1059.11        366.09         97.36         46.50   \n",
       "\n",
       "       TCGA-77-8007  ...  TCGA-85-7710  TCGA-56-7580  TCGA-43-6647  \\\n",
       "0             14.03  ...          3.06        420.68        109.66   \n",
       "1            152.28  ...        135.24        135.24        151.22   \n",
       "2            599.49  ...        688.78        204.07        438.59   \n",
       "3             15.00  ...          1.38          6.62          6.11   \n",
       "4             57.08  ...        165.57        119.26         87.65   \n",
       "...             ...  ...           ...           ...           ...   \n",
       "19641         59.55  ...         22.59         33.78        148.09   \n",
       "19642      10959.30  ...      18052.61      15392.14      20030.74   \n",
       "19643        420.68  ...        150.17         57.49        236.21   \n",
       "19646         15.56  ...          8.85          6.21          4.94   \n",
       "19647        101.54  ...        106.63         35.50         55.49   \n",
       "\n",
       "       TCGA-90-6837  TCGA-56-8083  TCGA-51-4079  TCGA-56-7222  TCGA-22-4593  \\\n",
       "0            106.63       1233.75        172.65        303.44        228.13   \n",
       "1            395.18        295.11        120.94        114.36         96.68   \n",
       "2            503.95       3039.30        607.87        106.63        507.46   \n",
       "3              1.66         33.54          3.11          0.82          3.32   \n",
       "4             53.57        232.94         67.12         64.80         90.14   \n",
       "...             ...           ...           ...           ...           ...   \n",
       "19641        106.63        297.17         22.26         25.72        106.63   \n",
       "19642      20593.91       9808.75      11189.60      10733.74      10014.87   \n",
       "19643        353.59         29.48        202.66         33.78         73.54   \n",
       "19646         17.64         28.65         14.78         27.64         15.80   \n",
       "19647        738.29        232.94        244.57         71.50         53.57   \n",
       "\n",
       "       TCGA-51-4081  TCGA-56-8309  \n",
       "0            251.48         23.59  \n",
       "1            277.20        153.34  \n",
       "2            255.00        346.29  \n",
       "3             27.25          6.16  \n",
       "4            198.47        154.42  \n",
       "...             ...           ...  \n",
       "19641         71.00         37.05  \n",
       "19642       6983.79      23169.48  \n",
       "19643         55.89        480.04  \n",
       "19646         31.00          4.86  \n",
       "19647        332.14         69.52  \n",
       "\n",
       "[17275 rows x 52 columns]"
      ]
     },
     "execution_count": 9,
     "metadata": {},
     "output_type": "execute_result"
    }
   ],
   "source": [
    "normal_x\n",
    "cancer_x"
   ]
  },
  {
   "cell_type": "code",
   "execution_count": 10,
   "id": "5a7bb3dc",
   "metadata": {},
   "outputs": [
    {
     "name": "stdout",
     "output_type": "stream",
     "text": [
      "checked\n"
     ]
    }
   ],
   "source": [
    "check(normal_x, cancer_x)"
   ]
  },
  {
   "cell_type": "code",
   "execution_count": 11,
   "id": "3bcf6d08",
   "metadata": {
    "scrolled": true
   },
   "outputs": [
    {
     "data": {
      "text/plain": [
       "array([62.12, 130.6, 33.06, 35.5, 73.03, 60.39, 92.05, 66.65, 54.33,\n",
       "       15.56, 55.49, 30.34, 14.45, 100.83, 131.51, 59.55, 87.03, 71.5,\n",
       "       23.08, 48.87, 72.52, 115.97, 45.21, 74.58, 8.92, 27.44, 40.64,\n",
       "       35.76, 59.13, 20.86, 37.05, 48.18, 51.71, 49.56, 72.01, 21.94,\n",
       "       27.44, 35.0, 76.17, 28.86, 90.77, 59.55, 40.07, 22.92, 29.91,\n",
       "       82.29, 4.7, 37.32, 43.63, 77.25], dtype=object)"
      ]
     },
     "execution_count": 11,
     "metadata": {},
     "output_type": "execute_result"
    }
   ],
   "source": [
    "np.array(normal_x.iloc[0][2:])"
   ]
  },
  {
   "cell_type": "markdown",
   "id": "326e8c91",
   "metadata": {},
   "source": [
    "# Normality"
   ]
  },
  {
   "cell_type": "markdown",
   "id": "5c639d26",
   "metadata": {},
   "source": [
    "### Independent tests"
   ]
  },
  {
   "cell_type": "code",
   "execution_count": 12,
   "id": "a8707319",
   "metadata": {
    "scrolled": false
   },
   "outputs": [],
   "source": [
    "dfs = [normal_x, cancer_x]\n",
    "for df in dfs:\n",
    "    df['normality'] = ''\n",
    "    for i in range (len(df)):\n",
    "        sample = np.array(df.iloc[i][2:-1])\n",
    "        stat,pval = stats.shapiro(sample)\n",
    "        if pval > 0.05 :\n",
    "            df.at[i,'normality'] = 'ND'\n",
    "        else: \n",
    "            df.at[i,'normality'] = 'NOT'\n",
    "    df.head(3)\n",
    "#     print('-----------')"
   ]
  },
  {
   "cell_type": "code",
   "execution_count": 13,
   "id": "099ebd27",
   "metadata": {},
   "outputs": [
    {
     "name": "stdout",
     "output_type": "stream",
     "text": [
      "dataframe normal has 6994 normally distrbuted genes and 10281 not normally distributed\n",
      "dataframe cancer has 2028 normally distrbuted genes and 15247 not normally distributed\n"
     ]
    }
   ],
   "source": [
    "counter = 0\n",
    "x = ['normal', 'cancer']\n",
    "for df in dfs:\n",
    "    norm = len(df[df['normality'] == 'ND'])\n",
    "    not_norm = len(df[df['normality'] == 'NOT'])\n",
    "    print('dataframe {} has {} normally distrbuted genes and {} not normally distributed'.format( x[counter],norm, not_norm))\n",
    "    counter +=1"
   ]
  },
  {
   "cell_type": "code",
   "execution_count": 14,
   "id": "223a7a13",
   "metadata": {
    "scrolled": false
   },
   "outputs": [
    {
     "name": "stdout",
     "output_type": "stream",
     "text": [
      "6994 10281\n",
      "2028 15247\n"
     ]
    }
   ],
   "source": [
    "normal_norm = normal_x[normal_x['normality'] == 'ND']\n",
    "normal_not = normal_x[normal_x['normality'] == 'NOT']\n",
    "normal_norm.dropna()\n",
    "normal_not.dropna()\n",
    "print(len(normal_norm), len(normal_not))\n",
    "\n",
    "cancer_norm = cancer_x[cancer_x['normality'] == 'ND']\n",
    "cancer_not = cancer_x[cancer_x['normality'] == 'NOT']\n",
    "cancer_norm.dropna()\n",
    "cancer_not.dropna()\n",
    "print(len(cancer_norm), len(cancer_not))"
   ]
  },
  {
   "cell_type": "code",
   "execution_count": 15,
   "id": "9eab597e",
   "metadata": {
    "scrolled": true
   },
   "outputs": [
    {
     "data": {
      "text/plain": [
       "6175"
      ]
     },
     "execution_count": 15,
     "metadata": {},
     "output_type": "execute_result"
    }
   ],
   "source": [
    "len(normal_norm.Hugo_Symbol.dropna())"
   ]
  },
  {
   "cell_type": "code",
   "execution_count": 16,
   "id": "2991607a",
   "metadata": {
    "scrolled": true
   },
   "outputs": [
    {
     "data": {
      "text/plain": [
       "1772"
      ]
     },
     "execution_count": 16,
     "metadata": {},
     "output_type": "execute_result"
    }
   ],
   "source": [
    "len(cancer_norm.Hugo_Symbol.dropna())"
   ]
  },
  {
   "cell_type": "code",
   "execution_count": 17,
   "id": "18025d60",
   "metadata": {
    "scrolled": true
   },
   "outputs": [
    {
     "data": {
      "text/plain": [
       "19347"
      ]
     },
     "execution_count": 17,
     "metadata": {},
     "output_type": "execute_result"
    }
   ],
   "source": [
    "len(normal_x.Hugo_Symbol)"
   ]
  },
  {
   "cell_type": "code",
   "execution_count": 18,
   "id": "6279b607",
   "metadata": {},
   "outputs": [
    {
     "data": {
      "text/plain": [
       "17275"
      ]
     },
     "execution_count": 18,
     "metadata": {},
     "output_type": "execute_result"
    }
   ],
   "source": [
    "len(normal_x.Hugo_Symbol.dropna())"
   ]
  },
  {
   "cell_type": "code",
   "execution_count": 19,
   "id": "25abf7f6",
   "metadata": {},
   "outputs": [
    {
     "name": "stdout",
     "output_type": "stream",
     "text": [
      "1124 16151\n"
     ]
    }
   ],
   "source": [
    "normal_intersect = np.intersect1d(normal_norm.Hugo_Symbol.dropna(), cancer_norm.Hugo_Symbol.dropna())\n",
    "not_intersect = np.setdiff1d(normal_x.Hugo_Symbol.dropna(),normal_intersect)\n",
    "# main_list = np.setdiff1d(list_2,list_1)\n",
    "# yields the elements in `list_2` that are NOT in `list_1`\n",
    "# not_intersect = np.intersect1d(normal_not.Hugo_Symbol.dropna(), cancer_not.Hugo_Symbol.dropna())\n",
    "print(len(normal_intersect), len(not_intersect))"
   ]
  },
  {
   "cell_type": "code",
   "execution_count": 20,
   "id": "0a987f70",
   "metadata": {},
   "outputs": [
    {
     "name": "stdout",
     "output_type": "stream",
     "text": [
      "1124 1124\n"
     ]
    }
   ],
   "source": [
    "normal_norm = normal_norm[normal_norm['Hugo_Symbol'].isin(normal_intersect)]\n",
    "cancer_norm = cancer_norm[cancer_norm['Hugo_Symbol'].isin(normal_intersect)]\n",
    "print(len(normal_norm),len(cancer_norm))"
   ]
  },
  {
   "cell_type": "markdown",
   "id": "63c0ef69",
   "metadata": {},
   "source": [
    "### Only 1124 are normally distributed, so on the whole independent dataset we'll use Wolcoxon"
   ]
  },
  {
   "cell_type": "code",
   "execution_count": 21,
   "id": "9198f9f1",
   "metadata": {
    "scrolled": false
   },
   "outputs": [
    {
     "name": "stdout",
     "output_type": "stream",
     "text": [
      "Index(['TCGA-43-7657', 'TCGA-58-8386', 'TCGA-22-5478', 'TCGA-22-5472',\n",
      "       'TCGA-43-5670', 'TCGA-60-2709', 'TCGA-22-5489', 'TCGA-77-8007',\n",
      "       'TCGA-22-5471', 'TCGA-22-4609', 'TCGA-22-5482', 'TCGA-56-8082',\n",
      "       'TCGA-22-5483', 'TCGA-56-8623', 'TCGA-33-4587', 'TCGA-56-7579',\n",
      "       'TCGA-43-3394', 'TCGA-34-8454', 'TCGA-77-7338', 'TCGA-43-6143',\n",
      "       'TCGA-43-6773', 'TCGA-51-4080', 'TCGA-34-7107', 'TCGA-39-5040',\n",
      "       'TCGA-43-6771', 'TCGA-92-7340', 'TCGA-77-7138', 'TCGA-77-7142',\n",
      "       'TCGA-56-7823', 'TCGA-22-5491', 'TCGA-22-5481', 'TCGA-90-7767',\n",
      "       'TCGA-77-8008', 'TCGA-56-7730', 'TCGA-33-6737', 'TCGA-56-7582',\n",
      "       'TCGA-56-7731', 'TCGA-77-7337', 'TCGA-43-7658', 'TCGA-56-8201',\n",
      "       'TCGA-85-7710', 'TCGA-56-7580', 'TCGA-43-6647', 'TCGA-90-6837',\n",
      "       'TCGA-56-8083', 'TCGA-51-4079', 'TCGA-56-7222', 'TCGA-22-4593',\n",
      "       'TCGA-51-4081', 'TCGA-56-8309'],\n",
      "      dtype='object')\n",
      "Index(['TCGA-43-7657', 'TCGA-58-8386', 'TCGA-22-5478', 'TCGA-22-5472',\n",
      "       'TCGA-43-5670', 'TCGA-60-2709', 'TCGA-22-5489', 'TCGA-77-8007',\n",
      "       'TCGA-22-5471', 'TCGA-22-4609', 'TCGA-22-5482', 'TCGA-56-8082',\n",
      "       'TCGA-22-5483', 'TCGA-56-8623', 'TCGA-33-4587', 'TCGA-56-7579',\n",
      "       'TCGA-43-3394', 'TCGA-34-8454', 'TCGA-77-7338', 'TCGA-43-6143',\n",
      "       'TCGA-43-6773', 'TCGA-51-4080', 'TCGA-34-7107', 'TCGA-39-5040',\n",
      "       'TCGA-43-6771', 'TCGA-92-7340', 'TCGA-77-7138', 'TCGA-77-7142',\n",
      "       'TCGA-56-7823', 'TCGA-22-5491', 'TCGA-22-5481', 'TCGA-90-7767',\n",
      "       'TCGA-77-8008', 'TCGA-56-7730', 'TCGA-33-6737', 'TCGA-56-7582',\n",
      "       'TCGA-56-7731', 'TCGA-77-7337', 'TCGA-43-7658', 'TCGA-56-8201',\n",
      "       'TCGA-85-7710', 'TCGA-56-7580', 'TCGA-43-6647', 'TCGA-90-6837',\n",
      "       'TCGA-56-8083', 'TCGA-51-4079', 'TCGA-56-7222', 'TCGA-22-4593',\n",
      "       'TCGA-51-4081', 'TCGA-56-8309'],\n",
      "      dtype='object')\n"
     ]
    }
   ],
   "source": [
    "indep = [normal_x.dropna().copy(), cancer_x.dropna().copy()]\n",
    "for df in indep:\n",
    "    df.drop('Hugo_Symbol',axis=1, inplace=True)\n",
    "    df.drop('Entrez_Gene_Id',axis=1, inplace=True)\n",
    "    df.drop('normality',axis=1, inplace=True)\n",
    "    print(df.columns)"
   ]
  },
  {
   "cell_type": "code",
   "execution_count": 22,
   "id": "8229d37a",
   "metadata": {},
   "outputs": [
    {
     "data": {
      "text/html": [
       "<div>\n",
       "<style scoped>\n",
       "    .dataframe tbody tr th:only-of-type {\n",
       "        vertical-align: middle;\n",
       "    }\n",
       "\n",
       "    .dataframe tbody tr th {\n",
       "        vertical-align: top;\n",
       "    }\n",
       "\n",
       "    .dataframe thead th {\n",
       "        text-align: right;\n",
       "    }\n",
       "</style>\n",
       "<table border=\"1\" class=\"dataframe\">\n",
       "  <thead>\n",
       "    <tr style=\"text-align: right;\">\n",
       "      <th></th>\n",
       "      <th>TCGA-43-7657</th>\n",
       "      <th>TCGA-58-8386</th>\n",
       "      <th>TCGA-22-5478</th>\n",
       "      <th>TCGA-22-5472</th>\n",
       "      <th>TCGA-43-5670</th>\n",
       "      <th>TCGA-60-2709</th>\n",
       "      <th>TCGA-22-5489</th>\n",
       "      <th>TCGA-77-8007</th>\n",
       "      <th>TCGA-22-5471</th>\n",
       "      <th>TCGA-22-4609</th>\n",
       "      <th>...</th>\n",
       "      <th>TCGA-85-7710</th>\n",
       "      <th>TCGA-56-7580</th>\n",
       "      <th>TCGA-43-6647</th>\n",
       "      <th>TCGA-90-6837</th>\n",
       "      <th>TCGA-56-8083</th>\n",
       "      <th>TCGA-51-4079</th>\n",
       "      <th>TCGA-56-7222</th>\n",
       "      <th>TCGA-22-4593</th>\n",
       "      <th>TCGA-51-4081</th>\n",
       "      <th>TCGA-56-8309</th>\n",
       "    </tr>\n",
       "  </thead>\n",
       "  <tbody>\n",
       "    <tr>\n",
       "      <th>0</th>\n",
       "      <td>62.12</td>\n",
       "      <td>130.60</td>\n",
       "      <td>33.06</td>\n",
       "      <td>35.50</td>\n",
       "      <td>73.03</td>\n",
       "      <td>60.39</td>\n",
       "      <td>92.05</td>\n",
       "      <td>66.65</td>\n",
       "      <td>54.33</td>\n",
       "      <td>15.56</td>\n",
       "      <td>...</td>\n",
       "      <td>90.77</td>\n",
       "      <td>59.55</td>\n",
       "      <td>40.07</td>\n",
       "      <td>22.92</td>\n",
       "      <td>29.91</td>\n",
       "      <td>82.29</td>\n",
       "      <td>4.70</td>\n",
       "      <td>37.32</td>\n",
       "      <td>43.63</td>\n",
       "      <td>77.25</td>\n",
       "    </tr>\n",
       "    <tr>\n",
       "      <th>1</th>\n",
       "      <td>185.11</td>\n",
       "      <td>283.05</td>\n",
       "      <td>119.26</td>\n",
       "      <td>169.07</td>\n",
       "      <td>165.57</td>\n",
       "      <td>161.02</td>\n",
       "      <td>131.51</td>\n",
       "      <td>198.47</td>\n",
       "      <td>175.07</td>\n",
       "      <td>147.06</td>\n",
       "      <td>...</td>\n",
       "      <td>185.11</td>\n",
       "      <td>119.26</td>\n",
       "      <td>102.97</td>\n",
       "      <td>123.50</td>\n",
       "      <td>264.03</td>\n",
       "      <td>194.36</td>\n",
       "      <td>166.73</td>\n",
       "      <td>105.15</td>\n",
       "      <td>185.11</td>\n",
       "      <td>356.05</td>\n",
       "    </tr>\n",
       "    <tr>\n",
       "      <th>2</th>\n",
       "      <td>909.17</td>\n",
       "      <td>819.30</td>\n",
       "      <td>412.00</td>\n",
       "      <td>743.43</td>\n",
       "      <td>1340.84</td>\n",
       "      <td>607.87</td>\n",
       "      <td>1709.26</td>\n",
       "      <td>1709.26</td>\n",
       "      <td>603.67</td>\n",
       "      <td>555.41</td>\n",
       "      <td>...</td>\n",
       "      <td>813.63</td>\n",
       "      <td>2400.97</td>\n",
       "      <td>543.96</td>\n",
       "      <td>2193.99</td>\n",
       "      <td>540.19</td>\n",
       "      <td>521.76</td>\n",
       "      <td>253.23</td>\n",
       "      <td>764.36</td>\n",
       "      <td>518.15</td>\n",
       "      <td>878.17</td>\n",
       "    </tr>\n",
       "    <tr>\n",
       "      <th>3</th>\n",
       "      <td>41.81</td>\n",
       "      <td>18.29</td>\n",
       "      <td>40.93</td>\n",
       "      <td>67.12</td>\n",
       "      <td>54.72</td>\n",
       "      <td>29.27</td>\n",
       "      <td>20.26</td>\n",
       "      <td>23.76</td>\n",
       "      <td>28.04</td>\n",
       "      <td>39.22</td>\n",
       "      <td>...</td>\n",
       "      <td>34.51</td>\n",
       "      <td>70.01</td>\n",
       "      <td>57.49</td>\n",
       "      <td>57.89</td>\n",
       "      <td>67.12</td>\n",
       "      <td>34.51</td>\n",
       "      <td>22.10</td>\n",
       "      <td>31.90</td>\n",
       "      <td>28.24</td>\n",
       "      <td>49.91</td>\n",
       "    </tr>\n",
       "    <tr>\n",
       "      <th>4</th>\n",
       "      <td>133.36</td>\n",
       "      <td>214.27</td>\n",
       "      <td>108.14</td>\n",
       "      <td>109.66</td>\n",
       "      <td>190.34</td>\n",
       "      <td>211.31</td>\n",
       "      <td>96.01</td>\n",
       "      <td>208.38</td>\n",
       "      <td>120.10</td>\n",
       "      <td>239.52</td>\n",
       "      <td>...</td>\n",
       "      <td>251.48</td>\n",
       "      <td>209.84</td>\n",
       "      <td>120.10</td>\n",
       "      <td>109.66</td>\n",
       "      <td>155.50</td>\n",
       "      <td>162.14</td>\n",
       "      <td>277.20</td>\n",
       "      <td>86.43</td>\n",
       "      <td>164.42</td>\n",
       "      <td>155.50</td>\n",
       "    </tr>\n",
       "    <tr>\n",
       "      <th>...</th>\n",
       "      <td>...</td>\n",
       "      <td>...</td>\n",
       "      <td>...</td>\n",
       "      <td>...</td>\n",
       "      <td>...</td>\n",
       "      <td>...</td>\n",
       "      <td>...</td>\n",
       "      <td>...</td>\n",
       "      <td>...</td>\n",
       "      <td>...</td>\n",
       "      <td>...</td>\n",
       "      <td>...</td>\n",
       "      <td>...</td>\n",
       "      <td>...</td>\n",
       "      <td>...</td>\n",
       "      <td>...</td>\n",
       "      <td>...</td>\n",
       "      <td>...</td>\n",
       "      <td>...</td>\n",
       "      <td>...</td>\n",
       "      <td>...</td>\n",
       "    </tr>\n",
       "    <tr>\n",
       "      <th>19641</th>\n",
       "      <td>215.77</td>\n",
       "      <td>148.09</td>\n",
       "      <td>83.45</td>\n",
       "      <td>232.94</td>\n",
       "      <td>167.90</td>\n",
       "      <td>80.01</td>\n",
       "      <td>161.02</td>\n",
       "      <td>104.42</td>\n",
       "      <td>81.14</td>\n",
       "      <td>113.56</td>\n",
       "      <td>...</td>\n",
       "      <td>145.02</td>\n",
       "      <td>202.66</td>\n",
       "      <td>111.99</td>\n",
       "      <td>371.22</td>\n",
       "      <td>154.42</td>\n",
       "      <td>289.02</td>\n",
       "      <td>32.59</td>\n",
       "      <td>191.67</td>\n",
       "      <td>204.07</td>\n",
       "      <td>88.26</td>\n",
       "    </tr>\n",
       "    <tr>\n",
       "      <th>19642</th>\n",
       "      <td>6792.79</td>\n",
       "      <td>5441.30</td>\n",
       "      <td>5831.91</td>\n",
       "      <td>5329.30</td>\n",
       "      <td>5711.87</td>\n",
       "      <td>6164.49</td>\n",
       "      <td>8134.41</td>\n",
       "      <td>6516.03</td>\n",
       "      <td>8598.28</td>\n",
       "      <td>5633.22</td>\n",
       "      <td>...</td>\n",
       "      <td>3955.48</td>\n",
       "      <td>4869.99</td>\n",
       "      <td>6935.54</td>\n",
       "      <td>4836.35</td>\n",
       "      <td>7230.10</td>\n",
       "      <td>6250.56</td>\n",
       "      <td>6840.04</td>\n",
       "      <td>5292.48</td>\n",
       "      <td>3928.15</td>\n",
       "      <td>7130.55</td>\n",
       "    </tr>\n",
       "    <tr>\n",
       "      <th>19643</th>\n",
       "      <td>423.61</td>\n",
       "      <td>529.06</td>\n",
       "      <td>660.68</td>\n",
       "      <td>620.67</td>\n",
       "      <td>518.15</td>\n",
       "      <td>848.22</td>\n",
       "      <td>366.09</td>\n",
       "      <td>1073.91</td>\n",
       "      <td>363.56</td>\n",
       "      <td>366.09</td>\n",
       "      <td>...</td>\n",
       "      <td>559.28</td>\n",
       "      <td>579.04</td>\n",
       "      <td>420.68</td>\n",
       "      <td>366.09</td>\n",
       "      <td>334.46</td>\n",
       "      <td>258.57</td>\n",
       "      <td>329.84</td>\n",
       "      <td>1030.12</td>\n",
       "      <td>665.29</td>\n",
       "      <td>633.73</td>\n",
       "    </tr>\n",
       "    <tr>\n",
       "      <th>19646</th>\n",
       "      <td>0.00</td>\n",
       "      <td>0.00</td>\n",
       "      <td>0.99</td>\n",
       "      <td>3.59</td>\n",
       "      <td>2.23</td>\n",
       "      <td>3.35</td>\n",
       "      <td>0.00</td>\n",
       "      <td>7.34</td>\n",
       "      <td>1.41</td>\n",
       "      <td>0.00</td>\n",
       "      <td>...</td>\n",
       "      <td>6.94</td>\n",
       "      <td>1.00</td>\n",
       "      <td>0.00</td>\n",
       "      <td>4.58</td>\n",
       "      <td>0.96</td>\n",
       "      <td>3.06</td>\n",
       "      <td>1.83</td>\n",
       "      <td>1.77</td>\n",
       "      <td>3.63</td>\n",
       "      <td>2.56</td>\n",
       "    </tr>\n",
       "    <tr>\n",
       "      <th>19647</th>\n",
       "      <td>64.34</td>\n",
       "      <td>101.54</td>\n",
       "      <td>14.45</td>\n",
       "      <td>69.52</td>\n",
       "      <td>110.43</td>\n",
       "      <td>36.53</td>\n",
       "      <td>60.82</td>\n",
       "      <td>116.78</td>\n",
       "      <td>66.18</td>\n",
       "      <td>25.54</td>\n",
       "      <td>...</td>\n",
       "      <td>38.12</td>\n",
       "      <td>17.64</td>\n",
       "      <td>14.56</td>\n",
       "      <td>14.35</td>\n",
       "      <td>5.77</td>\n",
       "      <td>24.28</td>\n",
       "      <td>21.78</td>\n",
       "      <td>16.27</td>\n",
       "      <td>73.54</td>\n",
       "      <td>88.26</td>\n",
       "    </tr>\n",
       "  </tbody>\n",
       "</table>\n",
       "<p>17275 rows × 50 columns</p>\n",
       "</div>"
      ],
      "text/plain": [
       "       TCGA-43-7657  TCGA-58-8386  TCGA-22-5478  TCGA-22-5472  TCGA-43-5670  \\\n",
       "0             62.12        130.60         33.06         35.50         73.03   \n",
       "1            185.11        283.05        119.26        169.07        165.57   \n",
       "2            909.17        819.30        412.00        743.43       1340.84   \n",
       "3             41.81         18.29         40.93         67.12         54.72   \n",
       "4            133.36        214.27        108.14        109.66        190.34   \n",
       "...             ...           ...           ...           ...           ...   \n",
       "19641        215.77        148.09         83.45        232.94        167.90   \n",
       "19642       6792.79       5441.30       5831.91       5329.30       5711.87   \n",
       "19643        423.61        529.06        660.68        620.67        518.15   \n",
       "19646          0.00          0.00          0.99          3.59          2.23   \n",
       "19647         64.34        101.54         14.45         69.52        110.43   \n",
       "\n",
       "       TCGA-60-2709  TCGA-22-5489  TCGA-77-8007  TCGA-22-5471  TCGA-22-4609  \\\n",
       "0             60.39         92.05         66.65         54.33         15.56   \n",
       "1            161.02        131.51        198.47        175.07        147.06   \n",
       "2            607.87       1709.26       1709.26        603.67        555.41   \n",
       "3             29.27         20.26         23.76         28.04         39.22   \n",
       "4            211.31         96.01        208.38        120.10        239.52   \n",
       "...             ...           ...           ...           ...           ...   \n",
       "19641         80.01        161.02        104.42         81.14        113.56   \n",
       "19642       6164.49       8134.41       6516.03       8598.28       5633.22   \n",
       "19643        848.22        366.09       1073.91        363.56        366.09   \n",
       "19646          3.35          0.00          7.34          1.41          0.00   \n",
       "19647         36.53         60.82        116.78         66.18         25.54   \n",
       "\n",
       "       ...  TCGA-85-7710  TCGA-56-7580  TCGA-43-6647  TCGA-90-6837  \\\n",
       "0      ...         90.77         59.55         40.07         22.92   \n",
       "1      ...        185.11        119.26        102.97        123.50   \n",
       "2      ...        813.63       2400.97        543.96       2193.99   \n",
       "3      ...         34.51         70.01         57.49         57.89   \n",
       "4      ...        251.48        209.84        120.10        109.66   \n",
       "...    ...           ...           ...           ...           ...   \n",
       "19641  ...        145.02        202.66        111.99        371.22   \n",
       "19642  ...       3955.48       4869.99       6935.54       4836.35   \n",
       "19643  ...        559.28        579.04        420.68        366.09   \n",
       "19646  ...          6.94          1.00          0.00          4.58   \n",
       "19647  ...         38.12         17.64         14.56         14.35   \n",
       "\n",
       "       TCGA-56-8083  TCGA-51-4079  TCGA-56-7222  TCGA-22-4593  TCGA-51-4081  \\\n",
       "0             29.91         82.29          4.70         37.32         43.63   \n",
       "1            264.03        194.36        166.73        105.15        185.11   \n",
       "2            540.19        521.76        253.23        764.36        518.15   \n",
       "3             67.12         34.51         22.10         31.90         28.24   \n",
       "4            155.50        162.14        277.20         86.43        164.42   \n",
       "...             ...           ...           ...           ...           ...   \n",
       "19641        154.42        289.02         32.59        191.67        204.07   \n",
       "19642       7230.10       6250.56       6840.04       5292.48       3928.15   \n",
       "19643        334.46        258.57        329.84       1030.12        665.29   \n",
       "19646          0.96          3.06          1.83          1.77          3.63   \n",
       "19647          5.77         24.28         21.78         16.27         73.54   \n",
       "\n",
       "       TCGA-56-8309  \n",
       "0             77.25  \n",
       "1            356.05  \n",
       "2            878.17  \n",
       "3             49.91  \n",
       "4            155.50  \n",
       "...             ...  \n",
       "19641         88.26  \n",
       "19642       7130.55  \n",
       "19643        633.73  \n",
       "19646          2.56  \n",
       "19647         88.26  \n",
       "\n",
       "[17275 rows x 50 columns]"
      ]
     },
     "execution_count": 22,
     "metadata": {},
     "output_type": "execute_result"
    }
   ],
   "source": [
    "indep[0]"
   ]
  },
  {
   "cell_type": "code",
   "execution_count": null,
   "id": "ca395f10",
   "metadata": {},
   "outputs": [],
   "source": [
    "stat, p = stats.wilcoxon(indep[0], indep[1], axis=1, alternative='less')\n",
    "# indep_wilcoxon = pd.DataFrame([normal_x.dropna().Hugo_Symbol, normal_x.dropna().Entrez_Gene_Id, normal_x.dropna().normality, p, stat])\n",
    "indep_wilcoxon = pd.DataFrame(list(zip(normal_x.dropna().Hugo_Symbol, normal_x.dropna().Entrez_Gene_Id, normal_x.dropna().normality, p, stat)))\n",
    "indep_wilcoxon.columns =['Hugo_Symbol', 'Entrez_Gene_Id', 'normality', 'p', 'stat']\n",
    "indep_wilcoxon['expression'] = np.where(indep_wilcoxon['p']>0.05, 'not', 'expressed')\n",
    "print(len(indep_wilcoxon))\n",
    "indep_wilcoxon.head(10)"
   ]
  },
  {
   "cell_type": "code",
   "execution_count": null,
   "id": "1959b022",
   "metadata": {},
   "outputs": [],
   "source": [
    "indep[0].dropna(axis=1)"
   ]
  },
  {
   "cell_type": "code",
   "execution_count": null,
   "id": "c7cbb051",
   "metadata": {},
   "outputs": [],
   "source": [
    "p1"
   ]
  },
  {
   "cell_type": "code",
   "execution_count": null,
   "id": "85472c4c",
   "metadata": {},
   "outputs": [],
   "source": [
    "stat, p = stats.wilcoxon(indep[0], indep[1], axis=1, alternative='less')\n",
    "# print('stat=%.3f, p=%.3f' % (stat, p))\n",
    "# L=[]\n",
    "# for i in range (0,len(p)):\n",
    "#     if p[i] > 0.05 :\n",
    "#         L.append(\"ne\")\n",
    "#     else:\n",
    "#         L.append(\"e\")\n"
   ]
  },
  {
   "cell_type": "code",
   "execution_count": null,
   "id": "6a2646fa",
   "metadata": {},
   "outputs": [],
   "source": [
    "print(p)"
   ]
  },
  {
   "cell_type": "code",
   "execution_count": null,
   "id": "21e67039",
   "metadata": {},
   "outputs": [],
   "source": [
    "normal_not = normal_not[normal_not['Hugo_Symbol'].isin(not_intersect)]\n",
    "cancer_not = cancer_not[cancer_not['Hugo_Symbol'].isin(not_intersect)]\n",
    "print(len(normal_not),len(cancer_not))"
   ]
  },
  {
   "cell_type": "code",
   "execution_count": null,
   "id": "89b63475",
   "metadata": {
    "scrolled": false
   },
   "outputs": [],
   "source": [
    "normal_norm.head(10)"
   ]
  },
  {
   "cell_type": "code",
   "execution_count": null,
   "id": "c3b719ab",
   "metadata": {},
   "outputs": [],
   "source": [
    "cancer_norm.head(10)"
   ]
  },
  {
   "cell_type": "code",
   "execution_count": null,
   "id": "42c7ee53",
   "metadata": {},
   "outputs": [],
   "source": [
    "normal_not.head(10)"
   ]
  },
  {
   "cell_type": "code",
   "execution_count": null,
   "id": "2993dfa0",
   "metadata": {},
   "outputs": [],
   "source": [
    "cancer_not.head(10)"
   ]
  },
  {
   "cell_type": "code",
   "execution_count": null,
   "id": "675cb575",
   "metadata": {},
   "outputs": [],
   "source": [
    "dfss = [normal_norm, cancer_norm, normal_not, cancer_not]\n",
    "for df in dfss:\n",
    "    df.drop('Hugo_Symbol')\n",
    "    df.drop('Entrez_Gene_Id')\n",
    "    df.drop('paired')"
   ]
  },
  {
   "cell_type": "code",
   "execution_count": null,
   "id": "35c7bb1f",
   "metadata": {},
   "outputs": [],
   "source": []
  }
 ],
 "metadata": {
  "kernelspec": {
   "display_name": "Python 3 (ipykernel)",
   "language": "python",
   "name": "python3"
  },
  "language_info": {
   "codemirror_mode": {
    "name": "ipython",
    "version": 3
   },
   "file_extension": ".py",
   "mimetype": "text/x-python",
   "name": "python",
   "nbconvert_exporter": "python",
   "pygments_lexer": "ipython3",
   "version": "3.8.11"
  }
 },
 "nbformat": 4,
 "nbformat_minor": 5
}
